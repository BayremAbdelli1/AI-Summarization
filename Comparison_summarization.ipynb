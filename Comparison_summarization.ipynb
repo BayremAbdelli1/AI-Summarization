{
  "nbformat": 4,
  "nbformat_minor": 0,
  "metadata": {
    "colab": {
      "provenance": [],
      "gpuType": "T4"
    },
    "kernelspec": {
      "name": "python3",
      "display_name": "Python 3"
    },
    "language_info": {
      "name": "python"
    },
    "accelerator": "GPU"
  },
  "cells": [
    {
      "cell_type": "code",
      "execution_count": 3,
      "metadata": {
        "colab": {
          "base_uri": "https://localhost:8080/"
        },
        "id": "rXQ0PXnCYkuU",
        "outputId": "ccb26793-67b0-4180-9790-be2ef21d5858"
      },
      "outputs": [
        {
          "output_type": "stream",
          "name": "stdout",
          "text": [
            "Collecting langchain\n",
            "  Downloading langchain-0.2.14-py3-none-any.whl.metadata (7.1 kB)\n",
            "Requirement already satisfied: PyYAML>=5.3 in /usr/local/lib/python3.10/dist-packages (from langchain) (6.0.2)\n",
            "Requirement already satisfied: SQLAlchemy<3,>=1.4 in /usr/local/lib/python3.10/dist-packages (from langchain) (2.0.32)\n",
            "Requirement already satisfied: aiohttp<4.0.0,>=3.8.3 in /usr/local/lib/python3.10/dist-packages (from langchain) (3.10.5)\n",
            "Requirement already satisfied: async-timeout<5.0.0,>=4.0.0 in /usr/local/lib/python3.10/dist-packages (from langchain) (4.0.3)\n",
            "Collecting langchain-core<0.3.0,>=0.2.32 (from langchain)\n",
            "  Downloading langchain_core-0.2.35-py3-none-any.whl.metadata (6.2 kB)\n",
            "Collecting langchain-text-splitters<0.3.0,>=0.2.0 (from langchain)\n",
            "  Downloading langchain_text_splitters-0.2.2-py3-none-any.whl.metadata (2.1 kB)\n",
            "Collecting langsmith<0.2.0,>=0.1.17 (from langchain)\n",
            "  Downloading langsmith-0.1.104-py3-none-any.whl.metadata (13 kB)\n",
            "Requirement already satisfied: numpy<2,>=1 in /usr/local/lib/python3.10/dist-packages (from langchain) (1.26.4)\n",
            "Requirement already satisfied: pydantic<3,>=1 in /usr/local/lib/python3.10/dist-packages (from langchain) (2.8.2)\n",
            "Requirement already satisfied: requests<3,>=2 in /usr/local/lib/python3.10/dist-packages (from langchain) (2.32.3)\n",
            "Collecting tenacity!=8.4.0,<9.0.0,>=8.1.0 (from langchain)\n",
            "  Downloading tenacity-8.5.0-py3-none-any.whl.metadata (1.2 kB)\n",
            "Requirement already satisfied: aiohappyeyeballs>=2.3.0 in /usr/local/lib/python3.10/dist-packages (from aiohttp<4.0.0,>=3.8.3->langchain) (2.4.0)\n",
            "Requirement already satisfied: aiosignal>=1.1.2 in /usr/local/lib/python3.10/dist-packages (from aiohttp<4.0.0,>=3.8.3->langchain) (1.3.1)\n",
            "Requirement already satisfied: attrs>=17.3.0 in /usr/local/lib/python3.10/dist-packages (from aiohttp<4.0.0,>=3.8.3->langchain) (24.2.0)\n",
            "Requirement already satisfied: frozenlist>=1.1.1 in /usr/local/lib/python3.10/dist-packages (from aiohttp<4.0.0,>=3.8.3->langchain) (1.4.1)\n",
            "Requirement already satisfied: multidict<7.0,>=4.5 in /usr/local/lib/python3.10/dist-packages (from aiohttp<4.0.0,>=3.8.3->langchain) (6.0.5)\n",
            "Requirement already satisfied: yarl<2.0,>=1.0 in /usr/local/lib/python3.10/dist-packages (from aiohttp<4.0.0,>=3.8.3->langchain) (1.9.4)\n",
            "Collecting jsonpatch<2.0,>=1.33 (from langchain-core<0.3.0,>=0.2.32->langchain)\n",
            "  Downloading jsonpatch-1.33-py2.py3-none-any.whl.metadata (3.0 kB)\n",
            "Requirement already satisfied: packaging<25,>=23.2 in /usr/local/lib/python3.10/dist-packages (from langchain-core<0.3.0,>=0.2.32->langchain) (24.1)\n",
            "Requirement already satisfied: typing-extensions>=4.7 in /usr/local/lib/python3.10/dist-packages (from langchain-core<0.3.0,>=0.2.32->langchain) (4.12.2)\n",
            "Collecting httpx<1,>=0.23.0 (from langsmith<0.2.0,>=0.1.17->langchain)\n",
            "  Downloading httpx-0.27.0-py3-none-any.whl.metadata (7.2 kB)\n",
            "Collecting orjson<4.0.0,>=3.9.14 (from langsmith<0.2.0,>=0.1.17->langchain)\n",
            "  Downloading orjson-3.10.7-cp310-cp310-manylinux_2_17_x86_64.manylinux2014_x86_64.whl.metadata (50 kB)\n",
            "\u001b[2K     \u001b[90m━━━━━━━━━━━━━━━━━━━━━━━━━━━━━━━━━━━━━━━━\u001b[0m \u001b[32m50.4/50.4 kB\u001b[0m \u001b[31m3.0 MB/s\u001b[0m eta \u001b[36m0:00:00\u001b[0m\n",
            "\u001b[?25hRequirement already satisfied: annotated-types>=0.4.0 in /usr/local/lib/python3.10/dist-packages (from pydantic<3,>=1->langchain) (0.7.0)\n",
            "Requirement already satisfied: pydantic-core==2.20.1 in /usr/local/lib/python3.10/dist-packages (from pydantic<3,>=1->langchain) (2.20.1)\n",
            "Requirement already satisfied: charset-normalizer<4,>=2 in /usr/local/lib/python3.10/dist-packages (from requests<3,>=2->langchain) (3.3.2)\n",
            "Requirement already satisfied: idna<4,>=2.5 in /usr/local/lib/python3.10/dist-packages (from requests<3,>=2->langchain) (3.7)\n",
            "Requirement already satisfied: urllib3<3,>=1.21.1 in /usr/local/lib/python3.10/dist-packages (from requests<3,>=2->langchain) (2.0.7)\n",
            "Requirement already satisfied: certifi>=2017.4.17 in /usr/local/lib/python3.10/dist-packages (from requests<3,>=2->langchain) (2024.7.4)\n",
            "Requirement already satisfied: greenlet!=0.4.17 in /usr/local/lib/python3.10/dist-packages (from SQLAlchemy<3,>=1.4->langchain) (3.0.3)\n",
            "Requirement already satisfied: anyio in /usr/local/lib/python3.10/dist-packages (from httpx<1,>=0.23.0->langsmith<0.2.0,>=0.1.17->langchain) (3.7.1)\n",
            "Collecting httpcore==1.* (from httpx<1,>=0.23.0->langsmith<0.2.0,>=0.1.17->langchain)\n",
            "  Downloading httpcore-1.0.5-py3-none-any.whl.metadata (20 kB)\n",
            "Requirement already satisfied: sniffio in /usr/local/lib/python3.10/dist-packages (from httpx<1,>=0.23.0->langsmith<0.2.0,>=0.1.17->langchain) (1.3.1)\n",
            "Collecting h11<0.15,>=0.13 (from httpcore==1.*->httpx<1,>=0.23.0->langsmith<0.2.0,>=0.1.17->langchain)\n",
            "  Downloading h11-0.14.0-py3-none-any.whl.metadata (8.2 kB)\n",
            "Collecting jsonpointer>=1.9 (from jsonpatch<2.0,>=1.33->langchain-core<0.3.0,>=0.2.32->langchain)\n",
            "  Downloading jsonpointer-3.0.0-py2.py3-none-any.whl.metadata (2.3 kB)\n",
            "Requirement already satisfied: exceptiongroup in /usr/local/lib/python3.10/dist-packages (from anyio->httpx<1,>=0.23.0->langsmith<0.2.0,>=0.1.17->langchain) (1.2.2)\n",
            "Downloading langchain-0.2.14-py3-none-any.whl (997 kB)\n",
            "\u001b[2K   \u001b[90m━━━━━━━━━━━━━━━━━━━━━━━━━━━━━━━━━━━━━━━━\u001b[0m \u001b[32m997.8/997.8 kB\u001b[0m \u001b[31m25.9 MB/s\u001b[0m eta \u001b[36m0:00:00\u001b[0m\n",
            "\u001b[?25hDownloading langchain_core-0.2.35-py3-none-any.whl (394 kB)\n",
            "\u001b[2K   \u001b[90m━━━━━━━━━━━━━━━━━━━━━━━━━━━━━━━━━━━━━━━━\u001b[0m \u001b[32m394.9/394.9 kB\u001b[0m \u001b[31m22.5 MB/s\u001b[0m eta \u001b[36m0:00:00\u001b[0m\n",
            "\u001b[?25hDownloading langchain_text_splitters-0.2.2-py3-none-any.whl (25 kB)\n",
            "Downloading langsmith-0.1.104-py3-none-any.whl (149 kB)\n",
            "\u001b[2K   \u001b[90m━━━━━━━━━━━━━━━━━━━━━━━━━━━━━━━━━━━━━━━━\u001b[0m \u001b[32m149.1/149.1 kB\u001b[0m \u001b[31m12.8 MB/s\u001b[0m eta \u001b[36m0:00:00\u001b[0m\n",
            "\u001b[?25hDownloading tenacity-8.5.0-py3-none-any.whl (28 kB)\n",
            "Downloading httpx-0.27.0-py3-none-any.whl (75 kB)\n",
            "\u001b[2K   \u001b[90m━━━━━━━━━━━━━━━━━━━━━━━━━━━━━━━━━━━━━━━━\u001b[0m \u001b[32m75.6/75.6 kB\u001b[0m \u001b[31m5.9 MB/s\u001b[0m eta \u001b[36m0:00:00\u001b[0m\n",
            "\u001b[?25hDownloading httpcore-1.0.5-py3-none-any.whl (77 kB)\n",
            "\u001b[2K   \u001b[90m━━━━━━━━━━━━━━━━━━━━━━━━━━━━━━━━━━━━━━━━\u001b[0m \u001b[32m77.9/77.9 kB\u001b[0m \u001b[31m6.7 MB/s\u001b[0m eta \u001b[36m0:00:00\u001b[0m\n",
            "\u001b[?25hDownloading jsonpatch-1.33-py2.py3-none-any.whl (12 kB)\n",
            "Downloading orjson-3.10.7-cp310-cp310-manylinux_2_17_x86_64.manylinux2014_x86_64.whl (141 kB)\n",
            "\u001b[2K   \u001b[90m━━━━━━━━━━━━━━━━━━━━━━━━━━━━━━━━━━━━━━━━\u001b[0m \u001b[32m141.9/141.9 kB\u001b[0m \u001b[31m12.2 MB/s\u001b[0m eta \u001b[36m0:00:00\u001b[0m\n",
            "\u001b[?25hDownloading jsonpointer-3.0.0-py2.py3-none-any.whl (7.6 kB)\n",
            "Downloading h11-0.14.0-py3-none-any.whl (58 kB)\n",
            "\u001b[2K   \u001b[90m━━━━━━━━━━━━━━━━━━━━━━━━━━━━━━━━━━━━━━━━\u001b[0m \u001b[32m58.3/58.3 kB\u001b[0m \u001b[31m4.9 MB/s\u001b[0m eta \u001b[36m0:00:00\u001b[0m\n",
            "\u001b[?25hInstalling collected packages: tenacity, orjson, jsonpointer, h11, jsonpatch, httpcore, httpx, langsmith, langchain-core, langchain-text-splitters, langchain\n",
            "  Attempting uninstall: tenacity\n",
            "    Found existing installation: tenacity 9.0.0\n",
            "    Uninstalling tenacity-9.0.0:\n",
            "      Successfully uninstalled tenacity-9.0.0\n",
            "Successfully installed h11-0.14.0 httpcore-1.0.5 httpx-0.27.0 jsonpatch-1.33 jsonpointer-3.0.0 langchain-0.2.14 langchain-core-0.2.35 langchain-text-splitters-0.2.2 langsmith-0.1.104 orjson-3.10.7 tenacity-8.5.0\n",
            "Collecting langchain_community\n",
            "  Downloading langchain_community-0.2.12-py3-none-any.whl.metadata (2.7 kB)\n",
            "Requirement already satisfied: PyYAML>=5.3 in /usr/local/lib/python3.10/dist-packages (from langchain_community) (6.0.2)\n",
            "Requirement already satisfied: SQLAlchemy<3,>=1.4 in /usr/local/lib/python3.10/dist-packages (from langchain_community) (2.0.32)\n",
            "Requirement already satisfied: aiohttp<4.0.0,>=3.8.3 in /usr/local/lib/python3.10/dist-packages (from langchain_community) (3.10.5)\n",
            "Collecting dataclasses-json<0.7,>=0.5.7 (from langchain_community)\n",
            "  Downloading dataclasses_json-0.6.7-py3-none-any.whl.metadata (25 kB)\n",
            "Requirement already satisfied: langchain<0.3.0,>=0.2.13 in /usr/local/lib/python3.10/dist-packages (from langchain_community) (0.2.14)\n",
            "Requirement already satisfied: langchain-core<0.3.0,>=0.2.30 in /usr/local/lib/python3.10/dist-packages (from langchain_community) (0.2.35)\n",
            "Requirement already satisfied: langsmith<0.2.0,>=0.1.0 in /usr/local/lib/python3.10/dist-packages (from langchain_community) (0.1.104)\n",
            "Requirement already satisfied: numpy<2,>=1 in /usr/local/lib/python3.10/dist-packages (from langchain_community) (1.26.4)\n",
            "Requirement already satisfied: requests<3,>=2 in /usr/local/lib/python3.10/dist-packages (from langchain_community) (2.32.3)\n",
            "Requirement already satisfied: tenacity!=8.4.0,<9.0.0,>=8.1.0 in /usr/local/lib/python3.10/dist-packages (from langchain_community) (8.5.0)\n",
            "Requirement already satisfied: aiohappyeyeballs>=2.3.0 in /usr/local/lib/python3.10/dist-packages (from aiohttp<4.0.0,>=3.8.3->langchain_community) (2.4.0)\n",
            "Requirement already satisfied: aiosignal>=1.1.2 in /usr/local/lib/python3.10/dist-packages (from aiohttp<4.0.0,>=3.8.3->langchain_community) (1.3.1)\n",
            "Requirement already satisfied: attrs>=17.3.0 in /usr/local/lib/python3.10/dist-packages (from aiohttp<4.0.0,>=3.8.3->langchain_community) (24.2.0)\n",
            "Requirement already satisfied: frozenlist>=1.1.1 in /usr/local/lib/python3.10/dist-packages (from aiohttp<4.0.0,>=3.8.3->langchain_community) (1.4.1)\n",
            "Requirement already satisfied: multidict<7.0,>=4.5 in /usr/local/lib/python3.10/dist-packages (from aiohttp<4.0.0,>=3.8.3->langchain_community) (6.0.5)\n",
            "Requirement already satisfied: yarl<2.0,>=1.0 in /usr/local/lib/python3.10/dist-packages (from aiohttp<4.0.0,>=3.8.3->langchain_community) (1.9.4)\n",
            "Requirement already satisfied: async-timeout<5.0,>=4.0 in /usr/local/lib/python3.10/dist-packages (from aiohttp<4.0.0,>=3.8.3->langchain_community) (4.0.3)\n",
            "Collecting marshmallow<4.0.0,>=3.18.0 (from dataclasses-json<0.7,>=0.5.7->langchain_community)\n",
            "  Downloading marshmallow-3.22.0-py3-none-any.whl.metadata (7.2 kB)\n",
            "Collecting typing-inspect<1,>=0.4.0 (from dataclasses-json<0.7,>=0.5.7->langchain_community)\n",
            "  Downloading typing_inspect-0.9.0-py3-none-any.whl.metadata (1.5 kB)\n",
            "Requirement already satisfied: langchain-text-splitters<0.3.0,>=0.2.0 in /usr/local/lib/python3.10/dist-packages (from langchain<0.3.0,>=0.2.13->langchain_community) (0.2.2)\n",
            "Requirement already satisfied: pydantic<3,>=1 in /usr/local/lib/python3.10/dist-packages (from langchain<0.3.0,>=0.2.13->langchain_community) (2.8.2)\n",
            "Requirement already satisfied: jsonpatch<2.0,>=1.33 in /usr/local/lib/python3.10/dist-packages (from langchain-core<0.3.0,>=0.2.30->langchain_community) (1.33)\n",
            "Requirement already satisfied: packaging<25,>=23.2 in /usr/local/lib/python3.10/dist-packages (from langchain-core<0.3.0,>=0.2.30->langchain_community) (24.1)\n",
            "Requirement already satisfied: typing-extensions>=4.7 in /usr/local/lib/python3.10/dist-packages (from langchain-core<0.3.0,>=0.2.30->langchain_community) (4.12.2)\n",
            "Requirement already satisfied: httpx<1,>=0.23.0 in /usr/local/lib/python3.10/dist-packages (from langsmith<0.2.0,>=0.1.0->langchain_community) (0.27.0)\n",
            "Requirement already satisfied: orjson<4.0.0,>=3.9.14 in /usr/local/lib/python3.10/dist-packages (from langsmith<0.2.0,>=0.1.0->langchain_community) (3.10.7)\n",
            "Requirement already satisfied: charset-normalizer<4,>=2 in /usr/local/lib/python3.10/dist-packages (from requests<3,>=2->langchain_community) (3.3.2)\n",
            "Requirement already satisfied: idna<4,>=2.5 in /usr/local/lib/python3.10/dist-packages (from requests<3,>=2->langchain_community) (3.7)\n",
            "Requirement already satisfied: urllib3<3,>=1.21.1 in /usr/local/lib/python3.10/dist-packages (from requests<3,>=2->langchain_community) (2.0.7)\n",
            "Requirement already satisfied: certifi>=2017.4.17 in /usr/local/lib/python3.10/dist-packages (from requests<3,>=2->langchain_community) (2024.7.4)\n",
            "Requirement already satisfied: greenlet!=0.4.17 in /usr/local/lib/python3.10/dist-packages (from SQLAlchemy<3,>=1.4->langchain_community) (3.0.3)\n",
            "Requirement already satisfied: anyio in /usr/local/lib/python3.10/dist-packages (from httpx<1,>=0.23.0->langsmith<0.2.0,>=0.1.0->langchain_community) (3.7.1)\n",
            "Requirement already satisfied: httpcore==1.* in /usr/local/lib/python3.10/dist-packages (from httpx<1,>=0.23.0->langsmith<0.2.0,>=0.1.0->langchain_community) (1.0.5)\n",
            "Requirement already satisfied: sniffio in /usr/local/lib/python3.10/dist-packages (from httpx<1,>=0.23.0->langsmith<0.2.0,>=0.1.0->langchain_community) (1.3.1)\n",
            "Requirement already satisfied: h11<0.15,>=0.13 in /usr/local/lib/python3.10/dist-packages (from httpcore==1.*->httpx<1,>=0.23.0->langsmith<0.2.0,>=0.1.0->langchain_community) (0.14.0)\n",
            "Requirement already satisfied: jsonpointer>=1.9 in /usr/local/lib/python3.10/dist-packages (from jsonpatch<2.0,>=1.33->langchain-core<0.3.0,>=0.2.30->langchain_community) (3.0.0)\n",
            "Requirement already satisfied: annotated-types>=0.4.0 in /usr/local/lib/python3.10/dist-packages (from pydantic<3,>=1->langchain<0.3.0,>=0.2.13->langchain_community) (0.7.0)\n",
            "Requirement already satisfied: pydantic-core==2.20.1 in /usr/local/lib/python3.10/dist-packages (from pydantic<3,>=1->langchain<0.3.0,>=0.2.13->langchain_community) (2.20.1)\n",
            "Collecting mypy-extensions>=0.3.0 (from typing-inspect<1,>=0.4.0->dataclasses-json<0.7,>=0.5.7->langchain_community)\n",
            "  Downloading mypy_extensions-1.0.0-py3-none-any.whl.metadata (1.1 kB)\n",
            "Requirement already satisfied: exceptiongroup in /usr/local/lib/python3.10/dist-packages (from anyio->httpx<1,>=0.23.0->langsmith<0.2.0,>=0.1.0->langchain_community) (1.2.2)\n",
            "Downloading langchain_community-0.2.12-py3-none-any.whl (2.3 MB)\n",
            "\u001b[2K   \u001b[90m━━━━━━━━━━━━━━━━━━━━━━━━━━━━━━━━━━━━━━━━\u001b[0m \u001b[32m2.3/2.3 MB\u001b[0m \u001b[31m39.9 MB/s\u001b[0m eta \u001b[36m0:00:00\u001b[0m\n",
            "\u001b[?25hDownloading dataclasses_json-0.6.7-py3-none-any.whl (28 kB)\n",
            "Downloading marshmallow-3.22.0-py3-none-any.whl (49 kB)\n",
            "\u001b[2K   \u001b[90m━━━━━━━━━━━━━━━━━━━━━━━━━━━━━━━━━━━━━━━━\u001b[0m \u001b[32m49.3/49.3 kB\u001b[0m \u001b[31m4.6 MB/s\u001b[0m eta \u001b[36m0:00:00\u001b[0m\n",
            "\u001b[?25hDownloading typing_inspect-0.9.0-py3-none-any.whl (8.8 kB)\n",
            "Downloading mypy_extensions-1.0.0-py3-none-any.whl (4.7 kB)\n",
            "Installing collected packages: mypy-extensions, marshmallow, typing-inspect, dataclasses-json, langchain_community\n",
            "Successfully installed dataclasses-json-0.6.7 langchain_community-0.2.12 marshmallow-3.22.0 mypy-extensions-1.0.0 typing-inspect-0.9.0\n"
          ]
        }
      ],
      "source": [
        "!pip install langchain\n",
        "!pip install langchain_community"
      ]
    },
    {
      "cell_type": "code",
      "source": [
        "import getpass\n",
        "import os\n",
        "os.environ[\"LANGCHAIN_TRACING_V2\"] = \"true\"\n",
        "os.environ[\"LANGCHAIN_API_KEY\"] = getpass.getpass(\"Enter your LangChain API key: \")"
      ],
      "metadata": {
        "colab": {
          "base_uri": "https://localhost:8080/"
        },
        "id": "b3vaNmOlYmFc",
        "outputId": "f453d4b3-ea17-48c3-ee54-ab66c06a55ef"
      },
      "execution_count": 2,
      "outputs": [
        {
          "name": "stdout",
          "output_type": "stream",
          "text": [
            "Enter your LangChain API key: ··········\n"
          ]
        }
      ]
    },
    {
      "cell_type": "code",
      "source": [
        "!pip install langchain_openai\n",
        "!pip install streamlit"
      ],
      "metadata": {
        "colab": {
          "base_uri": "https://localhost:8080/"
        },
        "id": "0J5hxOfYcd-l",
        "outputId": "7588703b-a380-4010-fdfa-2ebec94f9fd4"
      },
      "execution_count": 4,
      "outputs": [
        {
          "output_type": "stream",
          "name": "stdout",
          "text": [
            "Collecting langchain_openai\n",
            "  Downloading langchain_openai-0.1.22-py3-none-any.whl.metadata (2.6 kB)\n",
            "Requirement already satisfied: langchain-core<0.3.0,>=0.2.33 in /usr/local/lib/python3.10/dist-packages (from langchain_openai) (0.2.35)\n",
            "Collecting openai<2.0.0,>=1.40.0 (from langchain_openai)\n",
            "  Downloading openai-1.42.0-py3-none-any.whl.metadata (22 kB)\n",
            "Collecting tiktoken<1,>=0.7 (from langchain_openai)\n",
            "  Downloading tiktoken-0.7.0-cp310-cp310-manylinux_2_17_x86_64.manylinux2014_x86_64.whl.metadata (6.6 kB)\n",
            "Requirement already satisfied: PyYAML>=5.3 in /usr/local/lib/python3.10/dist-packages (from langchain-core<0.3.0,>=0.2.33->langchain_openai) (6.0.2)\n",
            "Requirement already satisfied: jsonpatch<2.0,>=1.33 in /usr/local/lib/python3.10/dist-packages (from langchain-core<0.3.0,>=0.2.33->langchain_openai) (1.33)\n",
            "Requirement already satisfied: langsmith<0.2.0,>=0.1.75 in /usr/local/lib/python3.10/dist-packages (from langchain-core<0.3.0,>=0.2.33->langchain_openai) (0.1.104)\n",
            "Requirement already satisfied: packaging<25,>=23.2 in /usr/local/lib/python3.10/dist-packages (from langchain-core<0.3.0,>=0.2.33->langchain_openai) (24.1)\n",
            "Requirement already satisfied: pydantic<3,>=1 in /usr/local/lib/python3.10/dist-packages (from langchain-core<0.3.0,>=0.2.33->langchain_openai) (2.8.2)\n",
            "Requirement already satisfied: tenacity!=8.4.0,<9.0.0,>=8.1.0 in /usr/local/lib/python3.10/dist-packages (from langchain-core<0.3.0,>=0.2.33->langchain_openai) (8.5.0)\n",
            "Requirement already satisfied: typing-extensions>=4.7 in /usr/local/lib/python3.10/dist-packages (from langchain-core<0.3.0,>=0.2.33->langchain_openai) (4.12.2)\n",
            "Requirement already satisfied: anyio<5,>=3.5.0 in /usr/local/lib/python3.10/dist-packages (from openai<2.0.0,>=1.40.0->langchain_openai) (3.7.1)\n",
            "Requirement already satisfied: distro<2,>=1.7.0 in /usr/lib/python3/dist-packages (from openai<2.0.0,>=1.40.0->langchain_openai) (1.7.0)\n",
            "Requirement already satisfied: httpx<1,>=0.23.0 in /usr/local/lib/python3.10/dist-packages (from openai<2.0.0,>=1.40.0->langchain_openai) (0.27.0)\n",
            "Collecting jiter<1,>=0.4.0 (from openai<2.0.0,>=1.40.0->langchain_openai)\n",
            "  Downloading jiter-0.5.0-cp310-cp310-manylinux_2_17_x86_64.manylinux2014_x86_64.whl.metadata (3.6 kB)\n",
            "Requirement already satisfied: sniffio in /usr/local/lib/python3.10/dist-packages (from openai<2.0.0,>=1.40.0->langchain_openai) (1.3.1)\n",
            "Requirement already satisfied: tqdm>4 in /usr/local/lib/python3.10/dist-packages (from openai<2.0.0,>=1.40.0->langchain_openai) (4.66.5)\n",
            "Requirement already satisfied: regex>=2022.1.18 in /usr/local/lib/python3.10/dist-packages (from tiktoken<1,>=0.7->langchain_openai) (2024.5.15)\n",
            "Requirement already satisfied: requests>=2.26.0 in /usr/local/lib/python3.10/dist-packages (from tiktoken<1,>=0.7->langchain_openai) (2.32.3)\n",
            "Requirement already satisfied: idna>=2.8 in /usr/local/lib/python3.10/dist-packages (from anyio<5,>=3.5.0->openai<2.0.0,>=1.40.0->langchain_openai) (3.7)\n",
            "Requirement already satisfied: exceptiongroup in /usr/local/lib/python3.10/dist-packages (from anyio<5,>=3.5.0->openai<2.0.0,>=1.40.0->langchain_openai) (1.2.2)\n",
            "Requirement already satisfied: certifi in /usr/local/lib/python3.10/dist-packages (from httpx<1,>=0.23.0->openai<2.0.0,>=1.40.0->langchain_openai) (2024.7.4)\n",
            "Requirement already satisfied: httpcore==1.* in /usr/local/lib/python3.10/dist-packages (from httpx<1,>=0.23.0->openai<2.0.0,>=1.40.0->langchain_openai) (1.0.5)\n",
            "Requirement already satisfied: h11<0.15,>=0.13 in /usr/local/lib/python3.10/dist-packages (from httpcore==1.*->httpx<1,>=0.23.0->openai<2.0.0,>=1.40.0->langchain_openai) (0.14.0)\n",
            "Requirement already satisfied: jsonpointer>=1.9 in /usr/local/lib/python3.10/dist-packages (from jsonpatch<2.0,>=1.33->langchain-core<0.3.0,>=0.2.33->langchain_openai) (3.0.0)\n",
            "Requirement already satisfied: orjson<4.0.0,>=3.9.14 in /usr/local/lib/python3.10/dist-packages (from langsmith<0.2.0,>=0.1.75->langchain-core<0.3.0,>=0.2.33->langchain_openai) (3.10.7)\n",
            "Requirement already satisfied: annotated-types>=0.4.0 in /usr/local/lib/python3.10/dist-packages (from pydantic<3,>=1->langchain-core<0.3.0,>=0.2.33->langchain_openai) (0.7.0)\n",
            "Requirement already satisfied: pydantic-core==2.20.1 in /usr/local/lib/python3.10/dist-packages (from pydantic<3,>=1->langchain-core<0.3.0,>=0.2.33->langchain_openai) (2.20.1)\n",
            "Requirement already satisfied: charset-normalizer<4,>=2 in /usr/local/lib/python3.10/dist-packages (from requests>=2.26.0->tiktoken<1,>=0.7->langchain_openai) (3.3.2)\n",
            "Requirement already satisfied: urllib3<3,>=1.21.1 in /usr/local/lib/python3.10/dist-packages (from requests>=2.26.0->tiktoken<1,>=0.7->langchain_openai) (2.0.7)\n",
            "Downloading langchain_openai-0.1.22-py3-none-any.whl (51 kB)\n",
            "\u001b[2K   \u001b[90m━━━━━━━━━━━━━━━━━━━━━━━━━━━━━━━━━━━━━━━━\u001b[0m \u001b[32m52.0/52.0 kB\u001b[0m \u001b[31m3.8 MB/s\u001b[0m eta \u001b[36m0:00:00\u001b[0m\n",
            "\u001b[?25hDownloading openai-1.42.0-py3-none-any.whl (362 kB)\n",
            "\u001b[2K   \u001b[90m━━━━━━━━━━━━━━━━━━━━━━━━━━━━━━━━━━━━━━━━\u001b[0m \u001b[32m362.9/362.9 kB\u001b[0m \u001b[31m14.5 MB/s\u001b[0m eta \u001b[36m0:00:00\u001b[0m\n",
            "\u001b[?25hDownloading tiktoken-0.7.0-cp310-cp310-manylinux_2_17_x86_64.manylinux2014_x86_64.whl (1.1 MB)\n",
            "\u001b[2K   \u001b[90m━━━━━━━━━━━━━━━━━━━━━━━━━━━━━━━━━━━━━━━━\u001b[0m \u001b[32m1.1/1.1 MB\u001b[0m \u001b[31m34.4 MB/s\u001b[0m eta \u001b[36m0:00:00\u001b[0m\n",
            "\u001b[?25hDownloading jiter-0.5.0-cp310-cp310-manylinux_2_17_x86_64.manylinux2014_x86_64.whl (318 kB)\n",
            "\u001b[2K   \u001b[90m━━━━━━━━━━━━━━━━━━━━━━━━━━━━━━━━━━━━━━━━\u001b[0m \u001b[32m318.9/318.9 kB\u001b[0m \u001b[31m21.6 MB/s\u001b[0m eta \u001b[36m0:00:00\u001b[0m\n",
            "\u001b[?25hInstalling collected packages: jiter, tiktoken, openai, langchain_openai\n",
            "Successfully installed jiter-0.5.0 langchain_openai-0.1.22 openai-1.42.0 tiktoken-0.7.0\n",
            "Collecting streamlit\n",
            "  Downloading streamlit-1.37.1-py2.py3-none-any.whl.metadata (8.5 kB)\n",
            "Requirement already satisfied: altair<6,>=4.0 in /usr/local/lib/python3.10/dist-packages (from streamlit) (4.2.2)\n",
            "Requirement already satisfied: blinker<2,>=1.0.0 in /usr/lib/python3/dist-packages (from streamlit) (1.4)\n",
            "Requirement already satisfied: cachetools<6,>=4.0 in /usr/local/lib/python3.10/dist-packages (from streamlit) (5.5.0)\n",
            "Requirement already satisfied: click<9,>=7.0 in /usr/local/lib/python3.10/dist-packages (from streamlit) (8.1.7)\n",
            "Requirement already satisfied: numpy<3,>=1.20 in /usr/local/lib/python3.10/dist-packages (from streamlit) (1.26.4)\n",
            "Requirement already satisfied: packaging<25,>=20 in /usr/local/lib/python3.10/dist-packages (from streamlit) (24.1)\n",
            "Requirement already satisfied: pandas<3,>=1.3.0 in /usr/local/lib/python3.10/dist-packages (from streamlit) (2.1.4)\n",
            "Requirement already satisfied: pillow<11,>=7.1.0 in /usr/local/lib/python3.10/dist-packages (from streamlit) (9.4.0)\n",
            "Requirement already satisfied: protobuf<6,>=3.20 in /usr/local/lib/python3.10/dist-packages (from streamlit) (3.20.3)\n",
            "Requirement already satisfied: pyarrow>=7.0 in /usr/local/lib/python3.10/dist-packages (from streamlit) (14.0.2)\n",
            "Requirement already satisfied: requests<3,>=2.27 in /usr/local/lib/python3.10/dist-packages (from streamlit) (2.32.3)\n",
            "Requirement already satisfied: rich<14,>=10.14.0 in /usr/local/lib/python3.10/dist-packages (from streamlit) (13.7.1)\n",
            "Requirement already satisfied: tenacity<9,>=8.1.0 in /usr/local/lib/python3.10/dist-packages (from streamlit) (8.5.0)\n",
            "Requirement already satisfied: toml<2,>=0.10.1 in /usr/local/lib/python3.10/dist-packages (from streamlit) (0.10.2)\n",
            "Requirement already satisfied: typing-extensions<5,>=4.3.0 in /usr/local/lib/python3.10/dist-packages (from streamlit) (4.12.2)\n",
            "Collecting gitpython!=3.1.19,<4,>=3.0.7 (from streamlit)\n",
            "  Downloading GitPython-3.1.43-py3-none-any.whl.metadata (13 kB)\n",
            "Collecting pydeck<1,>=0.8.0b4 (from streamlit)\n",
            "  Downloading pydeck-0.9.1-py2.py3-none-any.whl.metadata (4.1 kB)\n",
            "Requirement already satisfied: tornado<7,>=6.0.3 in /usr/local/lib/python3.10/dist-packages (from streamlit) (6.3.3)\n",
            "Collecting watchdog<5,>=2.1.5 (from streamlit)\n",
            "  Downloading watchdog-4.0.2-py3-none-manylinux2014_x86_64.whl.metadata (38 kB)\n",
            "Requirement already satisfied: entrypoints in /usr/local/lib/python3.10/dist-packages (from altair<6,>=4.0->streamlit) (0.4)\n",
            "Requirement already satisfied: jinja2 in /usr/local/lib/python3.10/dist-packages (from altair<6,>=4.0->streamlit) (3.1.4)\n",
            "Requirement already satisfied: jsonschema>=3.0 in /usr/local/lib/python3.10/dist-packages (from altair<6,>=4.0->streamlit) (4.23.0)\n",
            "Requirement already satisfied: toolz in /usr/local/lib/python3.10/dist-packages (from altair<6,>=4.0->streamlit) (0.12.1)\n",
            "Collecting gitdb<5,>=4.0.1 (from gitpython!=3.1.19,<4,>=3.0.7->streamlit)\n",
            "  Downloading gitdb-4.0.11-py3-none-any.whl.metadata (1.2 kB)\n",
            "Requirement already satisfied: python-dateutil>=2.8.2 in /usr/local/lib/python3.10/dist-packages (from pandas<3,>=1.3.0->streamlit) (2.8.2)\n",
            "Requirement already satisfied: pytz>=2020.1 in /usr/local/lib/python3.10/dist-packages (from pandas<3,>=1.3.0->streamlit) (2024.1)\n",
            "Requirement already satisfied: tzdata>=2022.1 in /usr/local/lib/python3.10/dist-packages (from pandas<3,>=1.3.0->streamlit) (2024.1)\n",
            "Requirement already satisfied: charset-normalizer<4,>=2 in /usr/local/lib/python3.10/dist-packages (from requests<3,>=2.27->streamlit) (3.3.2)\n",
            "Requirement already satisfied: idna<4,>=2.5 in /usr/local/lib/python3.10/dist-packages (from requests<3,>=2.27->streamlit) (3.7)\n",
            "Requirement already satisfied: urllib3<3,>=1.21.1 in /usr/local/lib/python3.10/dist-packages (from requests<3,>=2.27->streamlit) (2.0.7)\n",
            "Requirement already satisfied: certifi>=2017.4.17 in /usr/local/lib/python3.10/dist-packages (from requests<3,>=2.27->streamlit) (2024.7.4)\n",
            "Requirement already satisfied: markdown-it-py>=2.2.0 in /usr/local/lib/python3.10/dist-packages (from rich<14,>=10.14.0->streamlit) (3.0.0)\n",
            "Requirement already satisfied: pygments<3.0.0,>=2.13.0 in /usr/local/lib/python3.10/dist-packages (from rich<14,>=10.14.0->streamlit) (2.16.1)\n",
            "Collecting smmap<6,>=3.0.1 (from gitdb<5,>=4.0.1->gitpython!=3.1.19,<4,>=3.0.7->streamlit)\n",
            "  Downloading smmap-5.0.1-py3-none-any.whl.metadata (4.3 kB)\n",
            "Requirement already satisfied: MarkupSafe>=2.0 in /usr/local/lib/python3.10/dist-packages (from jinja2->altair<6,>=4.0->streamlit) (2.1.5)\n",
            "Requirement already satisfied: attrs>=22.2.0 in /usr/local/lib/python3.10/dist-packages (from jsonschema>=3.0->altair<6,>=4.0->streamlit) (24.2.0)\n",
            "Requirement already satisfied: jsonschema-specifications>=2023.03.6 in /usr/local/lib/python3.10/dist-packages (from jsonschema>=3.0->altair<6,>=4.0->streamlit) (2023.12.1)\n",
            "Requirement already satisfied: referencing>=0.28.4 in /usr/local/lib/python3.10/dist-packages (from jsonschema>=3.0->altair<6,>=4.0->streamlit) (0.35.1)\n",
            "Requirement already satisfied: rpds-py>=0.7.1 in /usr/local/lib/python3.10/dist-packages (from jsonschema>=3.0->altair<6,>=4.0->streamlit) (0.20.0)\n",
            "Requirement already satisfied: mdurl~=0.1 in /usr/local/lib/python3.10/dist-packages (from markdown-it-py>=2.2.0->rich<14,>=10.14.0->streamlit) (0.1.2)\n",
            "Requirement already satisfied: six>=1.5 in /usr/local/lib/python3.10/dist-packages (from python-dateutil>=2.8.2->pandas<3,>=1.3.0->streamlit) (1.16.0)\n",
            "Downloading streamlit-1.37.1-py2.py3-none-any.whl (8.7 MB)\n",
            "\u001b[2K   \u001b[90m━━━━━━━━━━━━━━━━━━━━━━━━━━━━━━━━━━━━━━━━\u001b[0m \u001b[32m8.7/8.7 MB\u001b[0m \u001b[31m44.5 MB/s\u001b[0m eta \u001b[36m0:00:00\u001b[0m\n",
            "\u001b[?25hDownloading GitPython-3.1.43-py3-none-any.whl (207 kB)\n",
            "\u001b[2K   \u001b[90m━━━━━━━━━━━━━━━━━━━━━━━━━━━━━━━━━━━━━━━━\u001b[0m \u001b[32m207.3/207.3 kB\u001b[0m \u001b[31m16.5 MB/s\u001b[0m eta \u001b[36m0:00:00\u001b[0m\n",
            "\u001b[?25hDownloading pydeck-0.9.1-py2.py3-none-any.whl (6.9 MB)\n",
            "\u001b[2K   \u001b[90m━━━━━━━━━━━━━━━━━━━━━━━━━━━━━━━━━━━━━━━━\u001b[0m \u001b[32m6.9/6.9 MB\u001b[0m \u001b[31m45.6 MB/s\u001b[0m eta \u001b[36m0:00:00\u001b[0m\n",
            "\u001b[?25hDownloading watchdog-4.0.2-py3-none-manylinux2014_x86_64.whl (82 kB)\n",
            "\u001b[2K   \u001b[90m━━━━━━━━━━━━━━━━━━━━━━━━━━━━━━━━━━━━━━━━\u001b[0m \u001b[32m82.9/82.9 kB\u001b[0m \u001b[31m7.1 MB/s\u001b[0m eta \u001b[36m0:00:00\u001b[0m\n",
            "\u001b[?25hDownloading gitdb-4.0.11-py3-none-any.whl (62 kB)\n",
            "\u001b[2K   \u001b[90m━━━━━━━━━━━━━━━━━━━━━━━━━━━━━━━━━━━━━━━━\u001b[0m \u001b[32m62.7/62.7 kB\u001b[0m \u001b[31m5.2 MB/s\u001b[0m eta \u001b[36m0:00:00\u001b[0m\n",
            "\u001b[?25hDownloading smmap-5.0.1-py3-none-any.whl (24 kB)\n",
            "Installing collected packages: watchdog, smmap, pydeck, gitdb, gitpython, streamlit\n",
            "Successfully installed gitdb-4.0.11 gitpython-3.1.43 pydeck-0.9.1 smmap-5.0.1 streamlit-1.37.1 watchdog-4.0.2\n"
          ]
        }
      ]
    },
    {
      "cell_type": "code",
      "source": [
        "# Installation des bibliothèques nécessaires\n",
        "!pip install python-dotenv langchain langchain_openai langchain_community faiss-cpu scikit-learn numpy scipy"
      ],
      "metadata": {
        "colab": {
          "base_uri": "https://localhost:8080/"
        },
        "id": "OBsf2lfXd2FE",
        "outputId": "bd4d82ef-7c21-442a-b53e-6075f352d257"
      },
      "execution_count": 5,
      "outputs": [
        {
          "output_type": "stream",
          "name": "stdout",
          "text": [
            "Collecting python-dotenv\n",
            "  Downloading python_dotenv-1.0.1-py3-none-any.whl.metadata (23 kB)\n",
            "Requirement already satisfied: langchain in /usr/local/lib/python3.10/dist-packages (0.2.14)\n",
            "Requirement already satisfied: langchain_openai in /usr/local/lib/python3.10/dist-packages (0.1.22)\n",
            "Requirement already satisfied: langchain_community in /usr/local/lib/python3.10/dist-packages (0.2.12)\n",
            "Collecting faiss-cpu\n",
            "  Downloading faiss_cpu-1.8.0.post1-cp310-cp310-manylinux_2_17_x86_64.manylinux2014_x86_64.whl.metadata (3.7 kB)\n",
            "Requirement already satisfied: scikit-learn in /usr/local/lib/python3.10/dist-packages (1.3.2)\n",
            "Requirement already satisfied: numpy in /usr/local/lib/python3.10/dist-packages (1.26.4)\n",
            "Requirement already satisfied: scipy in /usr/local/lib/python3.10/dist-packages (1.13.1)\n",
            "Requirement already satisfied: PyYAML>=5.3 in /usr/local/lib/python3.10/dist-packages (from langchain) (6.0.2)\n",
            "Requirement already satisfied: SQLAlchemy<3,>=1.4 in /usr/local/lib/python3.10/dist-packages (from langchain) (2.0.32)\n",
            "Requirement already satisfied: aiohttp<4.0.0,>=3.8.3 in /usr/local/lib/python3.10/dist-packages (from langchain) (3.10.5)\n",
            "Requirement already satisfied: async-timeout<5.0.0,>=4.0.0 in /usr/local/lib/python3.10/dist-packages (from langchain) (4.0.3)\n",
            "Requirement already satisfied: langchain-core<0.3.0,>=0.2.32 in /usr/local/lib/python3.10/dist-packages (from langchain) (0.2.35)\n",
            "Requirement already satisfied: langchain-text-splitters<0.3.0,>=0.2.0 in /usr/local/lib/python3.10/dist-packages (from langchain) (0.2.2)\n",
            "Requirement already satisfied: langsmith<0.2.0,>=0.1.17 in /usr/local/lib/python3.10/dist-packages (from langchain) (0.1.104)\n",
            "Requirement already satisfied: pydantic<3,>=1 in /usr/local/lib/python3.10/dist-packages (from langchain) (2.8.2)\n",
            "Requirement already satisfied: requests<3,>=2 in /usr/local/lib/python3.10/dist-packages (from langchain) (2.32.3)\n",
            "Requirement already satisfied: tenacity!=8.4.0,<9.0.0,>=8.1.0 in /usr/local/lib/python3.10/dist-packages (from langchain) (8.5.0)\n",
            "Requirement already satisfied: openai<2.0.0,>=1.40.0 in /usr/local/lib/python3.10/dist-packages (from langchain_openai) (1.42.0)\n",
            "Requirement already satisfied: tiktoken<1,>=0.7 in /usr/local/lib/python3.10/dist-packages (from langchain_openai) (0.7.0)\n",
            "Requirement already satisfied: dataclasses-json<0.7,>=0.5.7 in /usr/local/lib/python3.10/dist-packages (from langchain_community) (0.6.7)\n",
            "Requirement already satisfied: packaging in /usr/local/lib/python3.10/dist-packages (from faiss-cpu) (24.1)\n",
            "Requirement already satisfied: joblib>=1.1.1 in /usr/local/lib/python3.10/dist-packages (from scikit-learn) (1.4.2)\n",
            "Requirement already satisfied: threadpoolctl>=2.0.0 in /usr/local/lib/python3.10/dist-packages (from scikit-learn) (3.5.0)\n",
            "Requirement already satisfied: aiohappyeyeballs>=2.3.0 in /usr/local/lib/python3.10/dist-packages (from aiohttp<4.0.0,>=3.8.3->langchain) (2.4.0)\n",
            "Requirement already satisfied: aiosignal>=1.1.2 in /usr/local/lib/python3.10/dist-packages (from aiohttp<4.0.0,>=3.8.3->langchain) (1.3.1)\n",
            "Requirement already satisfied: attrs>=17.3.0 in /usr/local/lib/python3.10/dist-packages (from aiohttp<4.0.0,>=3.8.3->langchain) (24.2.0)\n",
            "Requirement already satisfied: frozenlist>=1.1.1 in /usr/local/lib/python3.10/dist-packages (from aiohttp<4.0.0,>=3.8.3->langchain) (1.4.1)\n",
            "Requirement already satisfied: multidict<7.0,>=4.5 in /usr/local/lib/python3.10/dist-packages (from aiohttp<4.0.0,>=3.8.3->langchain) (6.0.5)\n",
            "Requirement already satisfied: yarl<2.0,>=1.0 in /usr/local/lib/python3.10/dist-packages (from aiohttp<4.0.0,>=3.8.3->langchain) (1.9.4)\n",
            "Requirement already satisfied: marshmallow<4.0.0,>=3.18.0 in /usr/local/lib/python3.10/dist-packages (from dataclasses-json<0.7,>=0.5.7->langchain_community) (3.22.0)\n",
            "Requirement already satisfied: typing-inspect<1,>=0.4.0 in /usr/local/lib/python3.10/dist-packages (from dataclasses-json<0.7,>=0.5.7->langchain_community) (0.9.0)\n",
            "Requirement already satisfied: jsonpatch<2.0,>=1.33 in /usr/local/lib/python3.10/dist-packages (from langchain-core<0.3.0,>=0.2.32->langchain) (1.33)\n",
            "Requirement already satisfied: typing-extensions>=4.7 in /usr/local/lib/python3.10/dist-packages (from langchain-core<0.3.0,>=0.2.32->langchain) (4.12.2)\n",
            "Requirement already satisfied: httpx<1,>=0.23.0 in /usr/local/lib/python3.10/dist-packages (from langsmith<0.2.0,>=0.1.17->langchain) (0.27.0)\n",
            "Requirement already satisfied: orjson<4.0.0,>=3.9.14 in /usr/local/lib/python3.10/dist-packages (from langsmith<0.2.0,>=0.1.17->langchain) (3.10.7)\n",
            "Requirement already satisfied: anyio<5,>=3.5.0 in /usr/local/lib/python3.10/dist-packages (from openai<2.0.0,>=1.40.0->langchain_openai) (3.7.1)\n",
            "Requirement already satisfied: distro<2,>=1.7.0 in /usr/lib/python3/dist-packages (from openai<2.0.0,>=1.40.0->langchain_openai) (1.7.0)\n",
            "Requirement already satisfied: jiter<1,>=0.4.0 in /usr/local/lib/python3.10/dist-packages (from openai<2.0.0,>=1.40.0->langchain_openai) (0.5.0)\n",
            "Requirement already satisfied: sniffio in /usr/local/lib/python3.10/dist-packages (from openai<2.0.0,>=1.40.0->langchain_openai) (1.3.1)\n",
            "Requirement already satisfied: tqdm>4 in /usr/local/lib/python3.10/dist-packages (from openai<2.0.0,>=1.40.0->langchain_openai) (4.66.5)\n",
            "Requirement already satisfied: annotated-types>=0.4.0 in /usr/local/lib/python3.10/dist-packages (from pydantic<3,>=1->langchain) (0.7.0)\n",
            "Requirement already satisfied: pydantic-core==2.20.1 in /usr/local/lib/python3.10/dist-packages (from pydantic<3,>=1->langchain) (2.20.1)\n",
            "Requirement already satisfied: charset-normalizer<4,>=2 in /usr/local/lib/python3.10/dist-packages (from requests<3,>=2->langchain) (3.3.2)\n",
            "Requirement already satisfied: idna<4,>=2.5 in /usr/local/lib/python3.10/dist-packages (from requests<3,>=2->langchain) (3.7)\n",
            "Requirement already satisfied: urllib3<3,>=1.21.1 in /usr/local/lib/python3.10/dist-packages (from requests<3,>=2->langchain) (2.0.7)\n",
            "Requirement already satisfied: certifi>=2017.4.17 in /usr/local/lib/python3.10/dist-packages (from requests<3,>=2->langchain) (2024.7.4)\n",
            "Requirement already satisfied: greenlet!=0.4.17 in /usr/local/lib/python3.10/dist-packages (from SQLAlchemy<3,>=1.4->langchain) (3.0.3)\n",
            "Requirement already satisfied: regex>=2022.1.18 in /usr/local/lib/python3.10/dist-packages (from tiktoken<1,>=0.7->langchain_openai) (2024.5.15)\n",
            "Requirement already satisfied: exceptiongroup in /usr/local/lib/python3.10/dist-packages (from anyio<5,>=3.5.0->openai<2.0.0,>=1.40.0->langchain_openai) (1.2.2)\n",
            "Requirement already satisfied: httpcore==1.* in /usr/local/lib/python3.10/dist-packages (from httpx<1,>=0.23.0->langsmith<0.2.0,>=0.1.17->langchain) (1.0.5)\n",
            "Requirement already satisfied: h11<0.15,>=0.13 in /usr/local/lib/python3.10/dist-packages (from httpcore==1.*->httpx<1,>=0.23.0->langsmith<0.2.0,>=0.1.17->langchain) (0.14.0)\n",
            "Requirement already satisfied: jsonpointer>=1.9 in /usr/local/lib/python3.10/dist-packages (from jsonpatch<2.0,>=1.33->langchain-core<0.3.0,>=0.2.32->langchain) (3.0.0)\n",
            "Requirement already satisfied: mypy-extensions>=0.3.0 in /usr/local/lib/python3.10/dist-packages (from typing-inspect<1,>=0.4.0->dataclasses-json<0.7,>=0.5.7->langchain_community) (1.0.0)\n",
            "Downloading python_dotenv-1.0.1-py3-none-any.whl (19 kB)\n",
            "Downloading faiss_cpu-1.8.0.post1-cp310-cp310-manylinux_2_17_x86_64.manylinux2014_x86_64.whl (27.0 MB)\n",
            "\u001b[2K   \u001b[90m━━━━━━━━━━━━━━━━━━━━━━━━━━━━━━━━━━━━━━━━\u001b[0m \u001b[32m27.0/27.0 MB\u001b[0m \u001b[31m13.4 MB/s\u001b[0m eta \u001b[36m0:00:00\u001b[0m\n",
            "\u001b[?25hInstalling collected packages: python-dotenv, faiss-cpu\n",
            "Successfully installed faiss-cpu-1.8.0.post1 python-dotenv-1.0.1\n"
          ]
        }
      ]
    },
    {
      "cell_type": "code",
      "source": [
        "!pip install python-dotenv\n",
        "!pip install pypdf"
      ],
      "metadata": {
        "colab": {
          "base_uri": "https://localhost:8080/"
        },
        "id": "jX53ghD2c8es",
        "outputId": "61b87e84-3a7e-4e19-cba2-0d1a12d58693"
      },
      "execution_count": 6,
      "outputs": [
        {
          "output_type": "stream",
          "name": "stdout",
          "text": [
            "Requirement already satisfied: python-dotenv in /usr/local/lib/python3.10/dist-packages (1.0.1)\n",
            "Collecting pypdf\n",
            "  Downloading pypdf-4.3.1-py3-none-any.whl.metadata (7.4 kB)\n",
            "Requirement already satisfied: typing_extensions>=4.0 in /usr/local/lib/python3.10/dist-packages (from pypdf) (4.12.2)\n",
            "Downloading pypdf-4.3.1-py3-none-any.whl (295 kB)\n",
            "\u001b[2K   \u001b[90m━━━━━━━━━━━━━━━━━━━━━━━━━━━━━━━━━━━━━━━━\u001b[0m \u001b[32m295.8/295.8 kB\u001b[0m \u001b[31m6.4 MB/s\u001b[0m eta \u001b[36m0:00:00\u001b[0m\n",
            "\u001b[?25hInstalling collected packages: pypdf\n",
            "Successfully installed pypdf-4.3.1\n"
          ]
        }
      ]
    },
    {
      "cell_type": "code",
      "source": [
        "%pip install --upgrade --quiet  langchain-openai tiktoken chromadb langchain\n",
        "import dotenv\n",
        "dotenv.load_dotenv()"
      ],
      "metadata": {
        "colab": {
          "base_uri": "https://localhost:8080/"
        },
        "id": "FTyDYC1fppu4",
        "outputId": "5f4e17c4-b301-4b61-c437-6a492e0b2d5a"
      },
      "execution_count": 9,
      "outputs": [
        {
          "output_type": "stream",
          "name": "stdout",
          "text": [
            "\u001b[?25l     \u001b[90m━━━━━━━━━━━━━━━━━━━━━━━━━━━━━━━━━━━━━━━━\u001b[0m \u001b[32m0.0/67.3 kB\u001b[0m \u001b[31m?\u001b[0m eta \u001b[36m-:--:--\u001b[0m\r\u001b[2K     \u001b[90m━━━━━━━━━━━━━━━━━━━━━━━━━━━━━━━━━━━━━━━━\u001b[0m \u001b[32m67.3/67.3 kB\u001b[0m \u001b[31m4.9 MB/s\u001b[0m eta \u001b[36m0:00:00\u001b[0m\n",
            "\u001b[?25h  Installing build dependencies ... \u001b[?25l\u001b[?25hdone\n",
            "  Getting requirements to build wheel ... \u001b[?25l\u001b[?25hdone\n",
            "  Preparing metadata (pyproject.toml) ... \u001b[?25l\u001b[?25hdone\n",
            "\u001b[2K   \u001b[90m━━━━━━━━━━━━━━━━━━━━━━━━━━━━━━━━━━━━━━━━\u001b[0m \u001b[32m584.3/584.3 kB\u001b[0m \u001b[31m11.8 MB/s\u001b[0m eta \u001b[36m0:00:00\u001b[0m\n",
            "\u001b[2K   \u001b[90m━━━━━━━━━━━━━━━━━━━━━━━━━━━━━━━━━━━━━━━━\u001b[0m \u001b[32m2.4/2.4 MB\u001b[0m \u001b[31m74.1 MB/s\u001b[0m eta \u001b[36m0:00:00\u001b[0m\n",
            "\u001b[2K   \u001b[90m━━━━━━━━━━━━━━━━━━━━━━━━━━━━━━━━━━━━━━━━\u001b[0m \u001b[32m273.8/273.8 kB\u001b[0m \u001b[31m21.4 MB/s\u001b[0m eta \u001b[36m0:00:00\u001b[0m\n",
            "\u001b[2K   \u001b[90m━━━━━━━━━━━━━━━━━━━━━━━━━━━━━━━━━━━━━━━━\u001b[0m \u001b[32m93.5/93.5 kB\u001b[0m \u001b[31m7.2 MB/s\u001b[0m eta \u001b[36m0:00:00\u001b[0m\n",
            "\u001b[2K   \u001b[90m━━━━━━━━━━━━━━━━━━━━━━━━━━━━━━━━━━━━━━━━\u001b[0m \u001b[32m1.7/1.7 MB\u001b[0m \u001b[31m72.1 MB/s\u001b[0m eta \u001b[36m0:00:00\u001b[0m\n",
            "\u001b[2K   \u001b[90m━━━━━━━━━━━━━━━━━━━━━━━━━━━━━━━━━━━━━━━━\u001b[0m \u001b[32m67.6/67.6 kB\u001b[0m \u001b[31m6.0 MB/s\u001b[0m eta \u001b[36m0:00:00\u001b[0m\n",
            "\u001b[2K   \u001b[90m━━━━━━━━━━━━━━━━━━━━━━━━━━━━━━━━━━━━━━━━\u001b[0m \u001b[32m13.2/13.2 MB\u001b[0m \u001b[31m99.5 MB/s\u001b[0m eta \u001b[36m0:00:00\u001b[0m\n",
            "\u001b[2K   \u001b[90m━━━━━━━━━━━━━━━━━━━━━━━━━━━━━━━━━━━━━━━━\u001b[0m \u001b[32m61.5/61.5 kB\u001b[0m \u001b[31m4.8 MB/s\u001b[0m eta \u001b[36m0:00:00\u001b[0m\n",
            "\u001b[2K   \u001b[90m━━━━━━━━━━━━━━━━━━━━━━━━━━━━━━━━━━━━━━━━\u001b[0m \u001b[32m52.5/52.5 kB\u001b[0m \u001b[31m4.5 MB/s\u001b[0m eta \u001b[36m0:00:00\u001b[0m\n",
            "\u001b[2K   \u001b[90m━━━━━━━━━━━━━━━━━━━━━━━━━━━━━━━━━━━━━━━━\u001b[0m \u001b[32m138.0/138.0 kB\u001b[0m \u001b[31m11.8 MB/s\u001b[0m eta \u001b[36m0:00:00\u001b[0m\n",
            "\u001b[2K   \u001b[90m━━━━━━━━━━━━━━━━━━━━━━━━━━━━━━━━━━━━━━━━\u001b[0m \u001b[32m109.5/109.5 kB\u001b[0m \u001b[31m9.7 MB/s\u001b[0m eta \u001b[36m0:00:00\u001b[0m\n",
            "\u001b[2K   \u001b[90m━━━━━━━━━━━━━━━━━━━━━━━━━━━━━━━━━━━━━━━━\u001b[0m \u001b[32m41.5/41.5 kB\u001b[0m \u001b[31m3.4 MB/s\u001b[0m eta \u001b[36m0:00:00\u001b[0m\n",
            "\u001b[2K   \u001b[90m━━━━━━━━━━━━━━━━━━━━━━━━━━━━━━━━━━━━━━━━\u001b[0m \u001b[32m62.8/62.8 kB\u001b[0m \u001b[31m5.3 MB/s\u001b[0m eta \u001b[36m0:00:00\u001b[0m\n",
            "\u001b[2K   \u001b[90m━━━━━━━━━━━━━━━━━━━━━━━━━━━━━━━━━━━━━━━━\u001b[0m \u001b[32m341.4/341.4 kB\u001b[0m \u001b[31m26.9 MB/s\u001b[0m eta \u001b[36m0:00:00\u001b[0m\n",
            "\u001b[2K   \u001b[90m━━━━━━━━━━━━━━━━━━━━━━━━━━━━━━━━━━━━━━━━\u001b[0m \u001b[32m72.0/72.0 kB\u001b[0m \u001b[31m6.2 MB/s\u001b[0m eta \u001b[36m0:00:00\u001b[0m\n",
            "\u001b[2K   \u001b[90m━━━━━━━━━━━━━━━━━━━━━━━━━━━━━━━━━━━━━━━━\u001b[0m \u001b[32m3.4/3.4 MB\u001b[0m \u001b[31m94.9 MB/s\u001b[0m eta \u001b[36m0:00:00\u001b[0m\n",
            "\u001b[2K   \u001b[90m━━━━━━━━━━━━━━━━━━━━━━━━━━━━━━━━━━━━━━━━\u001b[0m \u001b[32m427.7/427.7 kB\u001b[0m \u001b[31m32.0 MB/s\u001b[0m eta \u001b[36m0:00:00\u001b[0m\n",
            "\u001b[2K   \u001b[90m━━━━━━━━━━━━━━━━━━━━━━━━━━━━━━━━━━━━━━━━\u001b[0m \u001b[32m157.2/157.2 kB\u001b[0m \u001b[31m13.1 MB/s\u001b[0m eta \u001b[36m0:00:00\u001b[0m\n",
            "\u001b[2K   \u001b[90m━━━━━━━━━━━━━━━━━━━━━━━━━━━━━━━━━━━━━━━━\u001b[0m \u001b[32m46.0/46.0 kB\u001b[0m \u001b[31m3.6 MB/s\u001b[0m eta \u001b[36m0:00:00\u001b[0m\n",
            "\u001b[2K   \u001b[90m━━━━━━━━━━━━━━━━━━━━━━━━━━━━━━━━━━━━━━━━\u001b[0m \u001b[32m86.8/86.8 kB\u001b[0m \u001b[31m6.9 MB/s\u001b[0m eta \u001b[36m0:00:00\u001b[0m\n",
            "\u001b[?25h  Building wheel for pypika (pyproject.toml) ... \u001b[?25l\u001b[?25hdone\n"
          ]
        },
        {
          "output_type": "execute_result",
          "data": {
            "text/plain": [
              "True"
            ]
          },
          "metadata": {},
          "execution_count": 9
        }
      ]
    },
    {
      "cell_type": "code",
      "source": [
        "import os\n",
        "import pickle\n",
        "import dotenv\n",
        "import numpy as np\n",
        "from langchain.document_loaders import PyPDFLoader\n",
        "from langchain.text_splitter import RecursiveCharacterTextSplitter\n",
        "from langchain.embeddings import OpenAIEmbeddings\n",
        "from sklearn.metrics.pairwise import cosine_similarity\n",
        "from langchain.chat_models import ChatOpenAI\n",
        "# Configuration de l'API OpenAI\n",
        "openai_api_key = os.getenv('OPENAI_API_KEY')\n",
        "llm = ChatOpenAI(temperature=0, model_name=\"gpt-4o\")\n",
        "\n",
        "# Chargement du fichier PDF\n",
        "pdf_file = \"D2011.pdf\"\n",
        "loader = PyPDFLoader(pdf_file)\n",
        "pages = loader.load()\n",
        "text_splitter = RecursiveCharacterTextSplitter(chunk_size=1000)\n",
        "docs = text_splitter.split_documents(pages)"
      ],
      "metadata": {
        "colab": {
          "base_uri": "https://localhost:8080/"
        },
        "id": "Ok305zjfYoT7",
        "outputId": "b3d1bdb1-607e-4a53-cf83-e3c0b1589aa9"
      },
      "execution_count": 11,
      "outputs": [
        {
          "output_type": "stream",
          "name": "stderr",
          "text": [
            "/usr/local/lib/python3.10/dist-packages/langchain_core/_api/deprecation.py:151: LangChainDeprecationWarning: The class `ChatOpenAI` was deprecated in LangChain 0.0.10 and will be removed in 0.3.0. An updated version of the class exists in the langchain-openai package and should be used instead. To use it run `pip install -U langchain-openai` and import as `from langchain_openai import ChatOpenAI`.\n",
            "  warn_deprecated(\n"
          ]
        }
      ]
    },
    {
      "cell_type": "code",
      "source": [
        "from langchain.chains import MapReduceDocumentsChain, ReduceDocumentsChain\n",
        "from langchain_text_splitters import CharacterTextSplitter\n",
        "from langchain_core.prompts import PromptTemplate\n",
        "from langchain.chains.combine_documents.stuff import StuffDocumentsChain\n",
        "from langchain.chains.llm import LLMChain\n",
        "from langchain.chains.summarize import load_summarize_chain\n",
        "\n",
        "\n",
        "# Map\n",
        "map_template = \"\"\"The following is a set of documents\n",
        "{docs}\n",
        "Based on this list of docs, please identify the main themes\n",
        "Helpful Answer:\"\"\"\n",
        "map_prompt = PromptTemplate.from_template(map_template)\n",
        "map_chain = LLMChain(llm=llm, prompt=map_prompt)\n",
        "\n",
        "reduce_template = \"\"\"The following is a set of summaries:\n",
        "{docs}\n",
        "Take these and distill them into a final, consolidated summary of the main themes in french between 800 and 1000 tokens as output.\n",
        "Helpful Answer:\"\"\"\n",
        "reduce_prompt = PromptTemplate.from_template(reduce_template)\n",
        "reduce_chain = LLMChain(llm=llm, prompt=reduce_prompt)\n",
        "\n",
        "# Combine documents into a single string for reduction\n",
        "combine_documents_chain = StuffDocumentsChain(\n",
        "    llm_chain=reduce_chain,\n",
        "    document_variable_name=\"docs\"\n",
        ")\n",
        "\n",
        "# Reduce documents\n",
        "reduce_documents_chain = ReduceDocumentsChain(\n",
        "    combine_documents_chain=combine_documents_chain,\n",
        "    collapse_documents_chain=combine_documents_chain,\n",
        "    token_max=4000,\n",
        ")\n",
        "\n",
        "# Map-Reduce Chain\n",
        "map_reduce_chain = MapReduceDocumentsChain(\n",
        "    llm_chain=map_chain,\n",
        "    reduce_documents_chain=reduce_documents_chain,\n",
        "    document_variable_name=\"docs\",\n",
        "    return_intermediate_steps=False,\n",
        ")\n",
        "\n",
        "# Splitting documents\n",
        "text_splitter = CharacterTextSplitter.from_tiktoken_encoder(\n",
        "    chunk_size=1000, chunk_overlap=0\n",
        ")\n",
        "split_docs = text_splitter.split_documents(docs)\n",
        "\n",
        "# Execute the Map-Reduce workflow\n",
        "map_reduce_result = map_reduce_chain.invoke(split_docs)\n",
        "\n",
        "print(map_reduce_result[\"output_text\"])"
      ],
      "metadata": {
        "colab": {
          "base_uri": "https://localhost:8080/"
        },
        "id": "ZWBMBk7Dd-rq",
        "outputId": "b591d156-970b-40e7-a0fa-316a89ba1f48"
      },
      "execution_count": 106,
      "outputs": [
        {
          "output_type": "stream",
          "name": "stdout",
          "text": [
            "Les thèmes principaux des documents fournis peuvent être résumés comme suit :\n",
            "\n",
            "1. **Accès aux Documents Administratifs** :\n",
            "   - Le décret-loi établit le droit des individus et des entités à accéder aux documents administratifs détenus par les organisations publiques. Il définit des termes clés tels que \"organisme public\" et \"documents administratifs\" pour clarifier la portée du décret-loi. Les organisations publiques sont tenues de publier régulièrement une variété d'informations de manière proactive, y compris la structure organisationnelle, les processus de prise de décision, les annuaires des employés et les descriptions des services et programmes. Le décret-loi met l'accent sur l'importance de la transparence dans l'administration publique en exigeant la publication de décisions importantes, de politiques et d'informations financières. Des exigences spécifiques pour la publication de statistiques économiques et sociales, d'informations sur les finances publiques et de détails budgétaires sont énoncées pour garantir l'accès du public à des données critiques. Les documents divulgués doivent être facilement accessibles au public et mis à jour au moins une fois par an. Les procédures de demande d'accès aux documents administratifs sont spécifiées, y compris l'exigence de demandes écrites et la fourniture d'un formulaire de demande simple par les organisations publiques.\n",
            "\n",
            "2. **Soumission et Traitement des Demandes** :\n",
            "   - Les méthodes de soumission des demandes (soumission directe, courrier recommandé, soumission électronique) sont décrites, ainsi que les informations requises pour les demandes (détails personnels pour les individus, détails d'entreprise pour les organisations). Une assistance est fournie par les agents publics pour préparer les demandes. Les délais de réponse standard (15 jours) et les conditions de prolongation (15 jours supplémentaires pour les demandes volumineuses ou complexes) sont précisés. Les exigences de réponse urgente (dans les 2 jours pour les demandes ayant un impact sur la vie ou la liberté) sont également mentionnées. Un refus implicite est considéré si aucune réponse n'est donnée dans les délais spécifiés. L'accès gratuit aux documents administratifs est prévu, avec des frais possibles pour couvrir les coûts réels. Les conditions dans lesquelles l'accès peut être refusé (par exemple, protégé par la loi, confidentialité, sécurité nationale) sont énoncées. Des scénarios spécifiques où l'accès aux documents peut être refusé (par exemple, relations internationales, sécurité nationale, enquêtes criminelles) sont décrits, ainsi que des exceptions à ces refus (par exemple, documents du domaine public, violations des droits de l'homme, intérêt public).\n",
            "\n",
            "3. **Appels et Recours** :\n",
            "   - Les procédures pour faire appel d'un refus ou d'une violation du décret-loi (appel au chef de l'organisme public, puis au tribunal administratif) sont décrites. Les délais pour déposer des appels et l'obligation du tribunal de statuer sur les affaires urgentes sont également mentionnés.\n",
            "\n",
            "4. **Administration Publique et Conformité** :\n",
            "   - Les responsabilités et les exigences de conformité pour les agents publics et les organisations publiques concernant l'accès aux documents administratifs sont discutées. Les actions disciplinaires en cas de non-conformité, la nécessité de rapports annuels et trimestriels, et le calendrier pour une pleine conformité avec le décret-loi sont détaillés.\n",
            "\n",
            "5. **Droits et Régulations pour les Forces de Sécurité** :\n",
            "   - Les droits des forces de sécurité intérieure, en particulier leur droit de former des syndicats professionnels indépendants et les restrictions sur leurs activités, telles que l'interdiction de grèves et d'affiliations politiques, sont abordés. Des dispositions pour les interactions médiatiques par les dirigeants syndicaux sont également incluses.\n",
            "\n",
            "6. **Patrimoine Culturel et Préservation** :\n",
            "   - Les modifications apportées au code du patrimoine archéologique, historique et des arts traditionnels sont traitées. La redéfinition de ce qui constitue un bien culturel mobilier et la mise à jour de divers articles liés à la préservation et à la gestion du patrimoine culturel sont incluses.\n",
            "\n",
            "Ces thèmes reflètent les changements législatifs et les mises à jour dans l'administration publique, les droits et régulations des forces de sécurité, et la préservation du patrimoine culturel en Tunisie.\n"
          ]
        }
      ]
    },
    {
      "cell_type": "code",
      "source": [
        "from langchain.chains import load_summarize_chain\n",
        "from langchain.prompts import PromptTemplate\n",
        "from langchain_openai import ChatOpenAI\n",
        "\n",
        "# Définir le modèle LLM\n",
        "llm = ChatOpenAI(temperature=0, model_name=\"gpt-4o\")\n",
        "\n",
        "# Créer le template pour le résumé initial\n",
        "prompt_template = \"\"\"Write a concise summary of the following in french:\n",
        "{text}\n",
        "CONCISE SUMMARY:\"\"\"\n",
        "prompt = PromptTemplate.from_template(prompt_template)\n",
        "\n",
        "refine_template = (\n",
        "    \"Your job is to produce a final summary\\n\"\n",
        "    \"We have provided an existing summary up to a certain point: {existing_answer}\\n\"\n",
        "    \"We have the opportunity to refine the existing summary\"\n",
        "    \"(only if needed) with some more context below.\\n\"\n",
        "    \"------------\\n\"\n",
        "    \"{text}\\n\"\n",
        "    \"------------\\n\"\n",
        "    \"Given the new context, refine the original summary in french between 800 and 1000 tokens as output.\"\n",
        "    \"If the context isn't useful, return the original summary.\"\n",
        ")\n",
        "refine_prompt = PromptTemplate.from_template(refine_template)\n",
        "\n",
        "# Créer la chaîne de résumé\n",
        "chain = load_summarize_chain(\n",
        "    llm=llm,\n",
        "    chain_type=\"refine\",\n",
        "    question_prompt=prompt,\n",
        "    refine_prompt=refine_prompt,\n",
        "    return_intermediate_steps=True,\n",
        "    input_key=\"input_documents\",\n",
        "    output_key=\"output_text\",\n",
        ")\n",
        "\n",
        "refine_result = chain.invoke({\"input_documents\": split_docs}, return_only_outputs=True)\n",
        "print(refine_result[\"output_text\"])\n"
      ],
      "metadata": {
        "colab": {
          "base_uri": "https://localhost:8080/"
        },
        "id": "f0EzsRGEjwH5",
        "outputId": "ec7253cc-7014-4b96-cd15-ec02157e9f6e"
      },
      "execution_count": 111,
      "outputs": [
        {
          "output_type": "stream",
          "name": "stdout",
          "text": [
            "Le décret-loi n° 2011-41 du 26 mai 2011, publié dans le Journal Officiel de la République Tunisienne, établit les principes et règles pour l'accès aux documents administratifs des organismes publics. Il définit les termes \"organisme public\" et \"documents administratifs\" et stipule que toute personne a le droit d'accéder à ces documents, sous réserve de certaines exceptions. Les organismes publics doivent publier régulièrement des informations sur leur structure, leurs décisions, leurs employés, leurs services, et des données économiques et sociales. Les documents doivent être accessibles au public et mis à jour annuellement. Les demandes de documents doivent être faites par écrit, avec des formulaires simples si proposés.\n",
            "\n",
            "Le dépôt de demande peut se faire directement auprès de l'organisme public concerné, par lettre recommandée avec accusé de réception, ou par voie électronique. Toute demande doit comporter le nom, prénom et adresse du demandeur s'il s'agit d'une personne physique, ou la dénomination et le siège social s'il s'agit d'une personne morale, ainsi que le nom de l'organisme public concerné et les précisions nécessaires relatives aux documents demandés. Les agents chargés de l'information doivent prêter assistance au demandeur en cas de difficultés.\n",
            "\n",
            "L’organisme public concerné doit fournir une réponse dans les 15 jours, sauf en cas de délais prolongés pour des demandes complexes. En cas de refus, la décision doit être motivée. Si la demande pourrait affecter la protection de la vie ou la liberté d'une personne, une réponse urgente est requise dans un délai de deux jours ouvrables. Le défaut de réponse dans les délais vaut refus implicite et ouvre droit aux recours administratifs et juridictionnels.\n",
            "\n",
            "Si l'organisme public ne dispose pas du document requis, il doit transférer la demande à l'organisme compétent ou informer le demandeur dans les cinq jours ouvrables. L'accès aux documents est gratuit, mais des frais peuvent être exigés pour couvrir les coûts réels de fourniture des documents.\n",
            "\n",
            "Un organisme public peut refuser de communiquer un document protégé par la législation en vigueur, notamment en matière de protection des données personnelles, de propriété littéraire et artistique, ou pour des raisons de confidentialité. D'autres motifs de refus incluent la sécurité nationale, les relations internationales, la prévention du crime, et la transparence des marchés publics. Cependant, ces exceptions ne s'appliquent pas aux documents tombant dans le domaine public, nécessaires pour exposer des violations des droits de l'Homme, ou lorsque l'intérêt public général l'emporte sur l'intérêt protégé.\n",
            "\n",
            "En cas de rejet de la demande ou de violation des dispositions du décret-loi, le demandeur peut faire appel auprès du chef de l'organisme public dans les 15 jours suivant la décision. Si la réponse n'est pas satisfaisante, un recours peut être déposé devant le tribunal administratif dans un délai de 30 jours.\n",
            "\n",
            "L'agent public qui ne respecte pas les dispositions du présent décret-loi s'expose à des poursuites disciplinaires conformément à la législation en vigueur. Chaque organisme public est tenu d'adresser aux services compétents du Premier ministère, au cours du premier trimestre de l'année suivante, un rapport annuel sur les activités liées à l'accès aux documents administratifs le concernant. Les organismes publics doivent se mettre en pleine conformité avec les dispositions du présent décret-loi dans un délai de deux ans à compter de son entrée en vigueur. Durant ce délai, ils doivent fournir aux services compétents du Premier ministère un rapport trimestriel sur l'état d'avancement des mesures adoptées pour la bonne application du décret-loi. Les dispositions législatives et réglementaires en vigueur, ayant trait à l'accès aux documents administratifs, restent applicables jusqu'à la conformité totale avec le présent décret-loi. Le décret-loi sera publié au Journal Officiel de la République Tunisienne.\n"
          ]
        }
      ]
    },
    {
      "cell_type": "code",
      "source": [
        "from langchain.schema import Document\n",
        "from langchain.text_splitter import RecursiveCharacterTextSplitter\n",
        "from langchain.chat_models import ChatOpenAI\n",
        "from langchain.vectorstores import FAISS\n",
        "from langchain.embeddings import OpenAIEmbeddings\n",
        "from langchain.chains.summarize import load_summarize_chain\n",
        "from langchain.chains import LLMChain\n",
        "from langchain.prompts import PromptTemplate\n",
        "import numpy as np\n",
        "from sklearn.cluster import KMeans\n",
        "docs = [Document(page_content=page.page_content) for page in pages]\n",
        "\n",
        "text_splitter_brv = RecursiveCharacterTextSplitter(chunk_size=100, chunk_overlap=0)\n",
        "docs_brv = text_splitter_brv.split_documents(docs)\n",
        "embeddings = OpenAIEmbeddings(openai_api_key=openai_api_key)\n",
        "vectors = embeddings.embed_documents([doc.page_content for doc in docs_brv])\n",
        "num_clusters = 10\n",
        "kmeans = KMeans(n_clusters=num_clusters, random_state=42).fit(vectors)\n",
        "closest_indices = []\n",
        "for i in range(num_clusters):\n",
        "    distances = np.linalg.norm(vectors - kmeans.cluster_centers_[i], axis=1)\n",
        "    closest_index = np.argmin(distances)\n",
        "    closest_indices.append(closest_index)\n",
        "\n",
        "selected_docs_brv = [docs_brv[idx] for idx in sorted(closest_indices)]\n",
        "prompt_template = \"\"\"Summarize the following text between 800 and 1000 tokens in french as output:\n",
        "{text}\n",
        "SUMMARY:\n",
        "\"\"\"\n",
        "\n",
        "prompt = PromptTemplate.from_template(prompt_template)\n",
        "llm = ChatOpenAI(temperature=0, model_name=\"gpt-4o\")\n",
        "summary_chain = LLMChain(llm=llm, prompt=prompt)\n",
        "\n",
        "brv_result = summary_chain.invoke({\"text\": \" \".join([doc.page_content for doc in selected_docs_brv])})\n",
        "\n",
        "print(brv_result)\n"
      ],
      "metadata": {
        "colab": {
          "base_uri": "https://localhost:8080/"
        },
        "id": "nVjM7t-cjzpX",
        "outputId": "e60b860a-78e3-42dc-95fe-1c95c0665509"
      },
      "execution_count": 112,
      "outputs": [
        {
          "output_type": "stream",
          "name": "stderr",
          "text": [
            "/usr/local/lib/python3.10/dist-packages/sklearn/cluster/_kmeans.py:1416: FutureWarning: The default value of `n_init` will change from 10 to 'auto' in 1.4. Set the value of `n_init` explicitly to suppress the warning\n",
            "  super()._check_params_vs_input(X, default_n_init=10)\n"
          ]
        },
        {
          "output_type": "stream",
          "name": "stdout",
          "text": [
            "{'text': \"L'accès aux documents administratifs des organismes publics est régi par plusieurs lois et décrets. La loi n° 88-95 du 2 août 1988 concerne les archives, tandis que le décret-loi n° 2011-14 du 23 mars 2011 régit l'accès aux documents administratifs. Les organismes publics, qui incluent les services de l'administration, doivent fournir des descriptifs de leurs services et programmes offerts au public ainsi que leurs bilans. Selon l'article 10 du décret-loi, le délai de réponse à une demande d'accès peut être prorogé de 15 jours après notification au demandeur. L'article 21 stipule que chaque organisme public est tenu de se conformer aux dispositions du décret-loi.\"}\n"
          ]
        }
      ]
    },
    {
      "cell_type": "code",
      "source": [
        "from langchain.embeddings.openai import OpenAIEmbeddings\n",
        "from langchain.vectorstores import FAISS\n",
        "from langchain.chains import RetrievalQAWithSourcesChain\n",
        "from langchain_openai import ChatOpenAI\n",
        "from langchain.document_loaders import PyPDFLoader\n",
        "\n",
        "loader = PyPDFLoader(\"D2011.pdf\")\n",
        "docs = loader.load()\n",
        "\n",
        "for i, doc in enumerate(docs):\n",
        "    doc.metadata[\"source\"] = f\"document_{i+1}\"\n",
        "\n",
        "embeddings = OpenAIEmbeddings()\n",
        "vectorstore = FAISS.from_documents(docs, embeddings)\n",
        "\n",
        "retriever = vectorstore.as_retriever()\n",
        "llm = ChatOpenAI(temperature=0, model_name=\"gpt-4\")\n",
        "\n",
        "chain_retrieval_qa = RetrievalQAWithSourcesChain.from_llm(llm=llm, retriever=retriever)\n",
        "\n",
        "query = \"Summarize the entire document in French between 800 and 1000 tokens.\"\n",
        "\n",
        "retrieval_qa_result = chain_retrieval_qa({\"question\": query})\n",
        "\n",
        "print(retrieval_qa_result)\n"
      ],
      "metadata": {
        "colab": {
          "base_uri": "https://localhost:8080/"
        },
        "id": "KoH7B3ujpaWA",
        "outputId": "91bc88fe-023f-4b3b-d922-e50153d03880"
      },
      "execution_count": 142,
      "outputs": [
        {
          "output_type": "stream",
          "name": "stdout",
          "text": [
            "{'question': 'Summarize the entire document in French between 800 and 1000 tokens.', 'answer': \"Le document est une série de décrets-lois de la République Tunisienne. Le premier décret-loi concerne l'accès aux documents administratifs et stipule que les organismes publics doivent se conformer à ses dispositions dans un délai de deux ans. Le deuxième décret-loi modifie la loi n° 82-70 du 6 août 1982, portant statut général des forces de sécurité intérieure. Il accorde aux agents des forces de sûreté intérieure le droit à l'action syndicale et à la constitution de syndicats professionnels indépendants. Cependant, il leur est interdit de recourir à la grève ou d'entraver la marche du travail. Le troisième décret-loi modifie le code du patrimoine archéologique, historique et des arts traditionnels. Il abroge certaines dispositions et définit les biens meubles au sens du code comme les biens culturels mobiliers dont la valeur nationale ou internationale est prouvée sur le plan historique, scientifique, esthétique, technique ou traditionnel. Le décret-loi n° 2011-41 du 26 mai 2011 concerne l'accès aux documents administratifs des organismes publics. Il définit les principes et règles régissant cet accès. Selon ce décret, toute personne physique ou morale a le droit d'accéder aux documents administratifs, sous réserve des exceptions prévues par le décret. Les organismes publics doivent publier régulièrement des informations sur leur structure organisationnelle, leurs décisions importantes, leurs procédures, leurs employés, leurs règlements et manuels, leurs services et programmes, et les résultats des appels d'offres publics. Ils doivent également publier des informations statistiques économiques et sociales, des informations sur les finances publiques et des informations sur les services et programmes sociaux. Les documents administratifs doivent être divulgués sous une forme facilement accessible au public et mis à jour au moins une fois par an. Toute demande de documents administratifs doit être faite par écrit. Le document est un décret-loi de la République Tunisienne concernant l'accès aux documents administratifs. Il stipule que toute demande doit être déposée directement auprès de l'organisme public concerné ou par lettre recommandée ou par voie électronique. Les demandes doivent contenir des informations spécifiques sur le demandeur et les documents demandés. L'organisme public doit répondre à toute demande dans les 15 jours, sauf si la législation en vigueur indique des délais différents. Si la demande pourrait avoir des conséquences sur la protection de la vie ou la liberté d'une personne, l'organisme public doit répondre d'urgence et sans retard et dans un délai ne dépassant pas deux (2) jours ouvrables. Si l'organisme public ne dispose pas du document requis, il doit transférer la demande à l'organisme public compétent ou informer le demandeur que la demande n'est pas de son ressort. L'accès aux documents administratifs est gratuit, mais des frais peuvent être exigés si la fourniture des documents l'exige. Un organisme public peut refuser de communiquer un document administratif protégé par la législation en vigueur. En cas de rejet de la demande ou de violation des dispositions du décret-loi, le demandeur peut faire appel auprès du chef de l'organisme ou devant le tribunal administratif.\\n\", 'sources': 'document_1, document_2, document_3'}\n"
          ]
        }
      ]
    },
    {
      "cell_type": "code",
      "source": [
        "def cosine_similarity_comparison(pdf_text, summary):\n",
        "    pdf_embedding = embeddings.embed_text(pdf_text)\n",
        "    summary_embedding = embeddings.embed_text(summary)\n",
        "    return cosine_similarity([pdf_embedding], [summary_embedding])[0][0]\n"
      ],
      "metadata": {
        "id": "pGpVzYmtt9-a"
      },
      "execution_count": 114,
      "outputs": []
    },
    {
      "cell_type": "code",
      "source": [
        "pdf_text = \" \".join([page.page_content for page in pages])\n"
      ],
      "metadata": {
        "id": "R_Vsfm7luDFo"
      },
      "execution_count": 115,
      "outputs": []
    },
    {
      "cell_type": "code",
      "source": [
        "\n",
        "print(f\"MapReduce Result: {map_reduce_result}\")\n",
        "print(f\"Refine Result: {refine_result}\")\n",
        "print(f\"BRV Result: {brv_result}\")\n",
        "print(f\"RetrievalQAWithSourcesChain Result: {retrieval_qa_result}\")\n",
        "\n",
        "# Extract the text from each result based on its structure\n",
        "map_reduce_text = map_reduce_result.get(\"output_text\", \"\") if isinstance(map_reduce_result, dict) else map_reduce_result\n",
        "refine_text = refine_result.get(\"output_text\", \"\") if isinstance(refine_result, dict) else refine_result\n",
        "brv_text = brv_result.get(\"output_text\", \"\") if isinstance(brv_result, dict) else brv_result\n",
        "retrieval_qa_text = retrieval_qa_result.get(\"answer\", \"\") if isinstance(retrieval_qa_result, dict) else retrieval_qa_result\n",
        "\n",
        "\n",
        "from sklearn.metrics.pairwise import cosine_similarity\n",
        "\n",
        "def cosine_similarity_comparison(pdf_text, summary):\n",
        "\n",
        "    embeddings_list = embeddings.embed_documents([pdf_text, summary])\n",
        "    pdf_embedding = embeddings_list[0]\n",
        "    summary_embedding = embeddings_list[1]\n",
        "\n",
        "\n",
        "    return cosine_similarity([pdf_embedding], [summary_embedding])[0][0]\n",
        "\n",
        "similarities = {\n",
        "    \"MapReduce\": cosine_similarity_comparison(pdf_text, map_reduce_text),\n",
        "    \"Refine\": cosine_similarity_comparison(pdf_text, refine_text),\n",
        "    \"BRV\": cosine_similarity_comparison(pdf_text, brv_text),\n",
        "    \"RetrievalQAWithSourcesChain\": cosine_similarity_comparison(pdf_text, retrieval_qa_text)\n",
        "}\n",
        "\n",
        "\n",
        "for method, score in similarities.items():\n",
        "    print(f\"{method}: Similarity score = {score}\")\n",
        "\n",
        "\n"
      ],
      "metadata": {
        "colab": {
          "base_uri": "https://localhost:8080/"
        },
        "id": "8VwksL8CuGgS",
        "outputId": "731b8ed7-7afd-4876-8c17-0893df9fa7fa"
      },
      "execution_count": 144,
      "outputs": [
        {
          "output_type": "stream",
          "name": "stdout",
          "text": [
            "MapReduce Result: {'input_documents': [Document(page_content=\"N° 39  Journal Officiel de la République Tunisienne —  31 mai 2011  Page 803\\ndécrets-lois   \\n \\n \\n \\n \\n \\nDécret-loi n° 2011-41 du 26 mai 2011, relatif à \\nl’accès aux documents administratifs des organismes publics.  \\nLe Président de la République par intérim, \\nSur proposition du Premier ministre,  Vu la loi organique n° 2004-63 du 27 juillet 2004, \\nportant sur la protection des données à caractère \\npersonnel,  \\nVu la loi n° 88-95 du 2 août 1988, relative aux \\narchives,  \\nVu la loi n° 99-32 du 13 avril 1999, relative au \\nsystème national des statistiques,  \\nVu le décret-loi n° 2011-14 du 23 mars 2011, \\nportant organisation provisoire des pouvoirs publics,  \\nVu le décret n° 93-1880 du 13 septembre 1993, \\nrelatif au système d'information et de communication \\nadministrative,  \\nVu l'avis de l'instance nationale indépendante pour \\nla réforme du secteur de l'information et de la \\ncommunication,  \\nVu la délibération du conseil des ministres.  \\nPrend le décret-loi dont la teneur suit :  Article premier - Le présent décret-loi définit les \\nprincipes et règles régissant l'accès aux documents \\nadministratifs des organismes publics.  \\nArt. 2 - Au sens du présent décret-loi on entend par :  \\n- organisme public : les services de l'administration \\ncentrale et régionale de l'Etat, les collectivités locales \\net les établissements et entreprises publics,  \\n- documents administratifs : les documents \\nproduits ou reçus par les organismes publics dans le cadre de leur mission de service public quels que soient leur date, leur forme et leur support.  \\nArt. 3 - Toute personne physique ou morale a le \\ndroit d'accéder aux documents administratifs tels que définis à l'article 2 du présent décret-loi, aussi bien par divulgation proactive que divulgation sur demande de l'intéressé, sous réserve des exceptions prévues par le présent décret-loi.  \\nArt. 4 - Un organisme public doit, sous réserve des \\ndispositions du présent décret-loi, publier régulièrement :  \\n- toute information sur sa structure \\norganisationnelle, les fonctions et tâches ainsi que ses politiques,  - les décisions importantes et politiques qui \\ntouchent le public,  \\n- la procédure suivie lors du processus décisionnel \\net du processus de contrôle,  \\n- un annuaire des employés et de leurs tâches,  \\n- un annuaire regroupant les noms, coordonnées et \\nautres informations pertinentes concernant les agents \\nde l'information de l'organisme public concerné,  \\n- les règlements et manuels détenus par l'organisme \\npublic concerné ou utilisés par ses employés pour \\nl'exécution de leurs fonctions,  \\n- le descriptif des services et programmes offerts \\nau public et leurs bilans,  \\n- des informations sur les programmes \\ngouvernementaux y compris les indicateurs de performance et les résultats des appels d'offres publics importants,  \\n- un descriptif des documents disponibles par voie \\nélectronique,  \\n- un guide pour aider les usagers de \\nl'administration dans la procédure de demande de documents administratifs, \\nArt. 5 - L'organisme public compétent doit publier \\nrégulièrement :  \\n- Les informations statistiques économiques et \\nsociales y compris les comptes nationaux, les enquêtes statistiques désagrégés, \\n- Toute information sur les finances publiques y \\ncompris les informations macroéconomiques, les informations sur la dette publique et sur les actifs et les passifs de l'Etat, les prévisions et informations sur les dépenses à moyen terme, toute information sur l'évaluation des dépenses et de la gestion des finances publiques et les informations détaillées sur le budget, aux niveaux central, régional et local,  \\n- Les informations disponibles sur les services et \\nprogrammes sociaux.  \\nArt. 6 - Les documents administratifs mentionnés aux \\narticles 4 et 5 du présent décret-loi doivent être divulgués sous une forme facilement accessible au public, et si besoin est, mis à jour au moins une fois par an.  \\nArt. 7 - Toute demande de documents \\nadministratifs doit être faite par écrit.  \\nEn outre, les organismes publics peuvent proposer \\nun formulaire de demande, à condition qu'il soit simple, et ne requiert que les renseignements nécessaires prévus à l'article 8 du présent décret-loi.\"), Document(page_content=\"Journal Officiel de la République Tunisienne  —  31 mai 2011  N° 39  Page 804 Le dépôt de demande se fait soit, directement auprès \\nde l'organisme publique concerné avec délivrance obligatoire d'un récépissé, ou par une, lettre recommandée avec accusé de réception, ou par voie électronique.  \\nArt. 8 - Toute demande comporte obligatoirement, \\ns'il s'agit d'une personne physique, son nom, prénom \\net adresse, et s'il s'agit d'une personne morale, la \\ndénomination et le siège social. Aussi, la demande doit comporter obligatoirement le nom de l'organisme \\npublic concerné et les précisions nécessaires relatives \\naux documents et données demandés.  \\nArt. 9 - Les agents chargés de l'information d'un \\norganisme public doivent si nécessaire prêter assistance au demandeur, dans le cas ou celui-ci rencontrerait des difficultés dans la préparation de la demande.  \\nArt. 10 – L’organisme public concerné doit fournir une \\nréponse à toute demande dans les 15 jours sous réserve des délais indiqués par la législation en vigueur.  \\nToutefois, l'organisme public concerné n'est pas \\ntenu de répondre plus d'une fois au même demandeur, en cas de répétition de ses demandes portant sur un même objet sans motif valable.  \\nEn cas de refus explicite de demande, la décision \\ndoit être motivée.  \\nArt. 11 - Si la demande d'accès aux documents \\nadministratifs pourrait avoir des conséquences sur la \\nprotection de la vie ou la liberté d'une personne, l'organisme public concerné doit faire preuve de diligence afin de répondre d'urgence et sans retard et dans un délai ne dépassant pas deux (2) jours ouvrables.  \\nArt. 12 - Le délai de réponse à la demande prévu à \\nl'article 10 du présent décret-loi peut être prorogé de 15 jours après notification au demandeur lorsque la demande concerne un grand nombre de documents ou nécessite la consultation d'autres parties.  \\nArt. 13 - Le défaut de réponse de l'organisme \\npublic concerné à une demande dans les délais indiqués aux articles 10, 11 et 12 du présent décret-loi vaut refus implicite et ouvre droit aux recours administratifs et juridictionnels.  \\nArt. 14 - Lorsque l'organisme public concerné ne \\ndispose pas du document requis, il doit, dans les cinq \\n(5) jours ouvrables suivant la date de réception de la demande, soit transférer la demande à l'organisme \\npublic compétent, soit informer le demandeur que la \\ndemande n'est pas de son ressort. En cas de transfert de la demande, le demandeur doit en être avisé.  \\nArt. 15 - Toute personne peut, gratuitement, avoir \\naccès aux documents administratifs.  \\nToutefois, des frais peuvent être exigés après \\nnotification préalable du demandeur, si la fourniture des documents l'exige. Ces frais doivent se limiter à couvrir les coûts réels du document demandé.  Le document sera fourni dès justification du \\npaiement des frais par le demandeur.  \\nArt. 16 - Un organisme public peut refuser de \\ncommuniquer un document administratif protégé par la législation en vigueur et notamment la loi relative à la protection des données à caractère personnel et à celle relative à la protection de la propriété littéraire et artistique, ou une décision juridictionnelle ou quand il s'agit de document fourni à l'organisme public concerné à titre confidentiel.  \\nArt. 17 - L'organisme public peut refuser de \\ncommuniquer un document quand cela pourrait être \\npréjudiciable :  \\n- aux relations entre Etats ou organisations \\nInternationales,  \\n- à la formation ou au développement d'une \\npolitique gouvernementale efficace,  \\n- à la sécurité ou la défense nationale,  \\n- à la détection, prévention ou enquête criminelle,  \\n- à l'arrestation et le procès en justice des accusés,  - à l'administration de la justice, au respect des \\nrègles de l'équité, et à la transparence des procédures \\nde passation des marchés publics,  \\n- au processus de délibération, d'échange d'avis et \\npoint de vue, d'examen ou d'essai, ou aux intérêts légitimes commerciaux ou financiers de l'organisme public concerné.  \\nArt. 18 - Les exceptions prévues à l'article 17 du \\nprésent décret-loi ne s'appliquent pas :  \\n- aux documents tombant dans le domaine public \\nsous réserve de la législation en vigueur et notamment la loi relative aux archives,  \\n- aux documents dont la divulgation est nécessaire en \\nvue d'exposer, d'enquêter ou de poursuivre de graves violations des droits de l'Homme ou crimes de guerre,  \\n- lorsque l'intérêt public général l'emporte sur \\nl'intérêt protégé, en raison d'une menace grave pour la \\nsanté, la sécurité ou l'environnement, du risque d'un acte criminel, de corruption ou de mauvaise gestion dans le secteur public.  \\nArt. 19 - En cas de rejet du demande ou de la \\nviolation des dispositions du présent décret-loi le demandeur peut, dans les trente (15) jours qui suivent la décision de refus ou de la violation des dispositions du présent décret-loi, faire appel auprès du chef de cet organisme qui doit lui répondre dans les dix (10) jours de la date de la réception de sa demande en appel.  \\nLe demandeur qui n'est pas satisfait de la décision du \\nchef de l'organisme public peut faire appel devant le tribunal administratif dans un délai de trente (30) jours.  \\nLe tribunal administratif statuera en référé sur le \\nrecours du demandeur prévu à l'article 11 du présent décret-loi.\"), Document(page_content=\"N° 39  Journal Officiel de la République Tunisienne —  31 mai 2011  Page 805Art. 20 - L'agent public qui ne respecte pas les \\ndispositions du présent décret-loi s'expose à des poursuites disciplinaires conformément à la législation en vigueur.  \\nArt. 21 - Chaque organisme public est tenu \\nd'adresser aux services compétents du Premier ministère au cours du premier trimestre de l'année suivante, un rapport annuel sur les activités liées à l'accès aux documents administratifs le concernant.  \\nArt. 22 - Les organismes publics doivent se mettre \\nen pleine conformité avec les dispositions du présent \\ndécret-loi, dans un délai de deux ans à compter de l'entrée en vigueur du présent décret-loi.  \\nIls sont tenus durant ce délai à fournir aux services \\ncompétents du Premier ministère un rapport trimestriel dans les dix (10) jours de l'expiration du trimestre en question, portant sur l'état d'avancement des mesures adoptées pour la bonne application du présent décret-loi.  \\nArt. 23 - Les dispositions législatives et \\nréglementaires en vigueur, ayant trait à l'accès aux documents administratifs, restent applicables jusqu'à la conformité totale avec le présent décret-loi.  \\nArt. 24 - Le présent décret-loi sera publié au \\nJournal Officiel de la République Tunisienne. \\nTunis, le 26 mai 2011.  \\nLe Président de la République par intérim \\nFouad Mebazaâ  \\n \\nDécret-loi n° 2011-42 du 25 mai 2011, \\nmodifiant et complétant la loi n° 82-70 du 6 \\naoût 1982, portant statut général des forces de sécurité intérieure.  \\nLe Président de la République par intérim,  Sur proposition du ministre de l’intérieur, Vu la loi n° 82-70 du 6 août 1982, portant statut \\ngénéral des forces de sécurité intérieure, modifiée et \\ncomplétée par la loi n° 2000-58 du 13 juin 2000, \\nVu le décret-loi n° 2011-14 du 23 mars 2011, \\nportant organisation provisoire des pouvoirs publics, \\nVu la délibération du conseil des ministres. Prend le décret-loi dont la teneur suit : \\nArticle premier - Sont abrogées, les dispositions de \\nl’article\\n11   et  de l’alinéa 3 de l’article 12 de la loi n° \\n82-70 du 6 août 1982, portant statut général des forces de sécurité intérieure et remplacées par les dispositions suivantes : \\nArticle 11 (nouveau) - Les agents des forces de sûreté \\nintérieure ont le droit à l’action syndicale et de constituer, à cet effet, des syndicats professionnels indépendants de tous autres syndicats professionnels et de leurs unions. \\nLes fondateurs du syndicat professionnel doivent, \\ndès sa constitution, déposer un exemplaire de son \\nstatut et la liste de ses dirigeants auprès de l’autorité administrative dont relèvent les agents des forces de sûreté intérieure y adhérant. Cette même autorité \\nadministrative doit être également informée, selon la même modalité, de toute modification relative au statut du syndicat ou à la liste des personnes chargées de son administration ou de sa direction. \\nIl est interdit aux agents des forces de sûreté \\nintérieure, dans l’exercice de l’action syndicale, de recourir à la grève ou d’entraver, de quelque manière que ce soit, la marche du travail. \\nArticle 12 (alinéa 3 nouveau) - Il est interdit aux \\nagents des forces de sécurité intérieure d’adhérer à \\nune organisation à caractère politique ou de s’adonner à toute activité similaire. \\nArt. 2 - Il est ajouté un alinéa 4 à l’article 9 de la \\nloi n° 82-70 du 6 août 1982, portant statut général des forces de sécurité intérieure, dont la teneur suit : \\nArticle 9 (alinéa 4) - Les agents dirigeant les \\nsyndicats professionnels des agents des forces de sûreté intérieure peuvent donner aux médias des déclarations relatives à leur activité syndicale. \\nArt. 3 - Le ministre de l’intérieur et le ministre de \\nla justice sont chargés, chacun en ce qui le concerne, \\nde l’exécution du présent décret-loi qui sera publié au Journal Officiel de la République Tunisienne. \\nTunis, le 25 mai 2011.  \\nLe Président de la République par intérim \\nFouad Mebazaâ  \\n \\nDécret-loi n° 2011-43 du 25 mai 2011, modifiant \\net complétant le code du patrimoine archéologique, historique et des arts traditionnels. \\nLe Président de la République par intérim, \\nSur proposition du ministre de la culture, \\nVu le code du patrimoine archéologique, historique \\net des arts traditionnels, promulgué par la loi n° 94-35 du 24 février 1994,  \\nVu le décret-loi n° 2011-14 du 23 mars 2011, \\nportant organisation provisoire des pouvoirs publics, \\nVu la délibération du conseil des ministres. Prend le décret-loi dont la teneur suit : Article premier - Sont abrogées,  les dispositions \\ndu premier paragraphe de l’article 5, l’article 57, le \\ndeuxième paragraphe de l’article 80, l’article 81, l’article 82 et le premier paragraphe de l’article 83 du code du patrimoine archéologique, historique et des arts traditionnels, et sont remplacées par les dispositions suivantes : \\nArticle 5 (premier paragraphe nouveau) : sont \\nconsidérés biens meubles au sens  du présent code, les biens culturels mobiliers dont la valeur nationale ou internationale quant à l’aspect historique ou scientifique ou esthétique ou  technique ou traditionnelle est prouvée.\")], 'output_text': 'Les thèmes principaux des documents fournis peuvent être résumés comme suit :\\n\\n1. **Accès aux Documents Administratifs** :\\n   - Le décret-loi établit le droit des individus et des entités à accéder aux documents administratifs détenus par les organisations publiques. Il définit des termes clés tels que \"organisme public\" et \"documents administratifs\" pour clarifier la portée du décret-loi. Les organisations publiques sont tenues de publier régulièrement une variété d\\'informations de manière proactive, y compris la structure organisationnelle, les processus de prise de décision, les annuaires des employés et les descriptions des services et programmes. Le décret-loi met l\\'accent sur l\\'importance de la transparence dans l\\'administration publique en exigeant la publication de décisions importantes, de politiques et d\\'informations financières. Des exigences spécifiques pour la publication de statistiques économiques et sociales, d\\'informations sur les finances publiques et de détails budgétaires sont énoncées pour garantir l\\'accès du public à des données critiques. Les documents divulgués doivent être facilement accessibles au public et mis à jour au moins une fois par an. Les procédures de demande d\\'accès aux documents administratifs sont spécifiées, y compris l\\'exigence de demandes écrites et la fourniture d\\'un formulaire de demande simple par les organisations publiques.\\n\\n2. **Soumission et Traitement des Demandes** :\\n   - Les méthodes de soumission des demandes (soumission directe, courrier recommandé, soumission électronique) sont décrites, ainsi que les informations requises pour les demandes (détails personnels pour les individus, détails d\\'entreprise pour les organisations). Une assistance est fournie par les agents publics pour préparer les demandes. Les délais de réponse standard (15 jours) et les conditions de prolongation (15 jours supplémentaires pour les demandes volumineuses ou complexes) sont précisés. Les exigences de réponse urgente (dans les 2 jours pour les demandes ayant un impact sur la vie ou la liberté) sont également mentionnées. Un refus implicite est considéré si aucune réponse n\\'est donnée dans les délais spécifiés. L\\'accès gratuit aux documents administratifs est prévu, avec des frais possibles pour couvrir les coûts réels. Les conditions dans lesquelles l\\'accès peut être refusé (par exemple, protégé par la loi, confidentialité, sécurité nationale) sont énoncées. Des scénarios spécifiques où l\\'accès aux documents peut être refusé (par exemple, relations internationales, sécurité nationale, enquêtes criminelles) sont décrits, ainsi que des exceptions à ces refus (par exemple, documents du domaine public, violations des droits de l\\'homme, intérêt public).\\n\\n3. **Appels et Recours** :\\n   - Les procédures pour faire appel d\\'un refus ou d\\'une violation du décret-loi (appel au chef de l\\'organisme public, puis au tribunal administratif) sont décrites. Les délais pour déposer des appels et l\\'obligation du tribunal de statuer sur les affaires urgentes sont également mentionnés.\\n\\n4. **Administration Publique et Conformité** :\\n   - Les responsabilités et les exigences de conformité pour les agents publics et les organisations publiques concernant l\\'accès aux documents administratifs sont discutées. Les actions disciplinaires en cas de non-conformité, la nécessité de rapports annuels et trimestriels, et le calendrier pour une pleine conformité avec le décret-loi sont détaillés.\\n\\n5. **Droits et Régulations pour les Forces de Sécurité** :\\n   - Les droits des forces de sécurité intérieure, en particulier leur droit de former des syndicats professionnels indépendants et les restrictions sur leurs activités, telles que l\\'interdiction de grèves et d\\'affiliations politiques, sont abordés. Des dispositions pour les interactions médiatiques par les dirigeants syndicaux sont également incluses.\\n\\n6. **Patrimoine Culturel et Préservation** :\\n   - Les modifications apportées au code du patrimoine archéologique, historique et des arts traditionnels sont traitées. La redéfinition de ce qui constitue un bien culturel mobilier et la mise à jour de divers articles liés à la préservation et à la gestion du patrimoine culturel sont incluses.\\n\\nCes thèmes reflètent les changements législatifs et les mises à jour dans l\\'administration publique, les droits et régulations des forces de sécurité, et la préservation du patrimoine culturel en Tunisie.'}\n",
            "Refine Result: {'intermediate_steps': ['Le décret-loi n° 2011-41 du 26 mai 2011, publié dans le Journal Officiel de la République Tunisienne, établit les principes et règles pour l\\'accès aux documents administratifs des organismes publics. Il définit les termes \"organisme public\" et \"documents administratifs\" et stipule que toute personne a le droit d\\'accéder à ces documents, sous réserve de certaines exceptions. Les organismes publics doivent publier régulièrement des informations sur leur structure, leurs décisions, leurs employés, leurs services, et des données économiques et sociales. Les documents doivent être accessibles au public et mis à jour annuellement. Les demandes de documents doivent être faites par écrit, avec des formulaires simples si proposés.', 'Le décret-loi n° 2011-41 du 26 mai 2011, publié dans le Journal Officiel de la République Tunisienne, établit les principes et règles pour l\\'accès aux documents administratifs des organismes publics. Il définit les termes \"organisme public\" et \"documents administratifs\" et stipule que toute personne a le droit d\\'accéder à ces documents, sous réserve de certaines exceptions. Les organismes publics doivent publier régulièrement des informations sur leur structure, leurs décisions, leurs employés, leurs services, et des données économiques et sociales. Les documents doivent être accessibles au public et mis à jour annuellement. Les demandes de documents doivent être faites par écrit, avec des formulaires simples si proposés.\\n\\nLe dépôt de demande peut se faire directement auprès de l\\'organisme public concerné, par lettre recommandée avec accusé de réception, ou par voie électronique. Toute demande doit comporter le nom, prénom et adresse du demandeur s\\'il s\\'agit d\\'une personne physique, ou la dénomination et le siège social s\\'il s\\'agit d\\'une personne morale, ainsi que le nom de l\\'organisme public concerné et les précisions nécessaires relatives aux documents demandés. Les agents chargés de l\\'information doivent prêter assistance au demandeur en cas de difficultés.\\n\\nL’organisme public concerné doit fournir une réponse dans les 15 jours, sauf en cas de délais prolongés pour des demandes complexes. En cas de refus, la décision doit être motivée. Si la demande pourrait affecter la protection de la vie ou la liberté d\\'une personne, une réponse urgente est requise dans un délai de deux jours ouvrables. Le défaut de réponse dans les délais vaut refus implicite et ouvre droit aux recours administratifs et juridictionnels.\\n\\nSi l\\'organisme public ne dispose pas du document requis, il doit transférer la demande à l\\'organisme compétent ou informer le demandeur dans les cinq jours ouvrables. L\\'accès aux documents est gratuit, mais des frais peuvent être exigés pour couvrir les coûts réels de fourniture des documents.\\n\\nUn organisme public peut refuser de communiquer un document protégé par la législation en vigueur, notamment en matière de protection des données personnelles, de propriété littéraire et artistique, ou pour des raisons de confidentialité. D\\'autres motifs de refus incluent la sécurité nationale, les relations internationales, la prévention du crime, et la transparence des marchés publics. Cependant, ces exceptions ne s\\'appliquent pas aux documents tombant dans le domaine public, nécessaires pour exposer des violations des droits de l\\'Homme, ou lorsque l\\'intérêt public général l\\'emporte sur l\\'intérêt protégé.\\n\\nEn cas de rejet de la demande ou de violation des dispositions du décret-loi, le demandeur peut faire appel auprès du chef de l\\'organisme public dans les 15 jours suivant la décision. Si la réponse n\\'est pas satisfaisante, un recours peut être déposé devant le tribunal administratif dans un délai de 30 jours.', 'Le décret-loi n° 2011-41 du 26 mai 2011, publié dans le Journal Officiel de la République Tunisienne, établit les principes et règles pour l\\'accès aux documents administratifs des organismes publics. Il définit les termes \"organisme public\" et \"documents administratifs\" et stipule que toute personne a le droit d\\'accéder à ces documents, sous réserve de certaines exceptions. Les organismes publics doivent publier régulièrement des informations sur leur structure, leurs décisions, leurs employés, leurs services, et des données économiques et sociales. Les documents doivent être accessibles au public et mis à jour annuellement. Les demandes de documents doivent être faites par écrit, avec des formulaires simples si proposés.\\n\\nLe dépôt de demande peut se faire directement auprès de l\\'organisme public concerné, par lettre recommandée avec accusé de réception, ou par voie électronique. Toute demande doit comporter le nom, prénom et adresse du demandeur s\\'il s\\'agit d\\'une personne physique, ou la dénomination et le siège social s\\'il s\\'agit d\\'une personne morale, ainsi que le nom de l\\'organisme public concerné et les précisions nécessaires relatives aux documents demandés. Les agents chargés de l\\'information doivent prêter assistance au demandeur en cas de difficultés.\\n\\nL’organisme public concerné doit fournir une réponse dans les 15 jours, sauf en cas de délais prolongés pour des demandes complexes. En cas de refus, la décision doit être motivée. Si la demande pourrait affecter la protection de la vie ou la liberté d\\'une personne, une réponse urgente est requise dans un délai de deux jours ouvrables. Le défaut de réponse dans les délais vaut refus implicite et ouvre droit aux recours administratifs et juridictionnels.\\n\\nSi l\\'organisme public ne dispose pas du document requis, il doit transférer la demande à l\\'organisme compétent ou informer le demandeur dans les cinq jours ouvrables. L\\'accès aux documents est gratuit, mais des frais peuvent être exigés pour couvrir les coûts réels de fourniture des documents.\\n\\nUn organisme public peut refuser de communiquer un document protégé par la législation en vigueur, notamment en matière de protection des données personnelles, de propriété littéraire et artistique, ou pour des raisons de confidentialité. D\\'autres motifs de refus incluent la sécurité nationale, les relations internationales, la prévention du crime, et la transparence des marchés publics. Cependant, ces exceptions ne s\\'appliquent pas aux documents tombant dans le domaine public, nécessaires pour exposer des violations des droits de l\\'Homme, ou lorsque l\\'intérêt public général l\\'emporte sur l\\'intérêt protégé.\\n\\nEn cas de rejet de la demande ou de violation des dispositions du décret-loi, le demandeur peut faire appel auprès du chef de l\\'organisme public dans les 15 jours suivant la décision. Si la réponse n\\'est pas satisfaisante, un recours peut être déposé devant le tribunal administratif dans un délai de 30 jours.\\n\\nL\\'agent public qui ne respecte pas les dispositions du présent décret-loi s\\'expose à des poursuites disciplinaires conformément à la législation en vigueur. Chaque organisme public est tenu d\\'adresser aux services compétents du Premier ministère, au cours du premier trimestre de l\\'année suivante, un rapport annuel sur les activités liées à l\\'accès aux documents administratifs le concernant. Les organismes publics doivent se mettre en pleine conformité avec les dispositions du présent décret-loi dans un délai de deux ans à compter de son entrée en vigueur. Durant ce délai, ils doivent fournir aux services compétents du Premier ministère un rapport trimestriel sur l\\'état d\\'avancement des mesures adoptées pour la bonne application du décret-loi. Les dispositions législatives et réglementaires en vigueur, ayant trait à l\\'accès aux documents administratifs, restent applicables jusqu\\'à la conformité totale avec le présent décret-loi. Le décret-loi sera publié au Journal Officiel de la République Tunisienne.'], 'output_text': 'Le décret-loi n° 2011-41 du 26 mai 2011, publié dans le Journal Officiel de la République Tunisienne, établit les principes et règles pour l\\'accès aux documents administratifs des organismes publics. Il définit les termes \"organisme public\" et \"documents administratifs\" et stipule que toute personne a le droit d\\'accéder à ces documents, sous réserve de certaines exceptions. Les organismes publics doivent publier régulièrement des informations sur leur structure, leurs décisions, leurs employés, leurs services, et des données économiques et sociales. Les documents doivent être accessibles au public et mis à jour annuellement. Les demandes de documents doivent être faites par écrit, avec des formulaires simples si proposés.\\n\\nLe dépôt de demande peut se faire directement auprès de l\\'organisme public concerné, par lettre recommandée avec accusé de réception, ou par voie électronique. Toute demande doit comporter le nom, prénom et adresse du demandeur s\\'il s\\'agit d\\'une personne physique, ou la dénomination et le siège social s\\'il s\\'agit d\\'une personne morale, ainsi que le nom de l\\'organisme public concerné et les précisions nécessaires relatives aux documents demandés. Les agents chargés de l\\'information doivent prêter assistance au demandeur en cas de difficultés.\\n\\nL’organisme public concerné doit fournir une réponse dans les 15 jours, sauf en cas de délais prolongés pour des demandes complexes. En cas de refus, la décision doit être motivée. Si la demande pourrait affecter la protection de la vie ou la liberté d\\'une personne, une réponse urgente est requise dans un délai de deux jours ouvrables. Le défaut de réponse dans les délais vaut refus implicite et ouvre droit aux recours administratifs et juridictionnels.\\n\\nSi l\\'organisme public ne dispose pas du document requis, il doit transférer la demande à l\\'organisme compétent ou informer le demandeur dans les cinq jours ouvrables. L\\'accès aux documents est gratuit, mais des frais peuvent être exigés pour couvrir les coûts réels de fourniture des documents.\\n\\nUn organisme public peut refuser de communiquer un document protégé par la législation en vigueur, notamment en matière de protection des données personnelles, de propriété littéraire et artistique, ou pour des raisons de confidentialité. D\\'autres motifs de refus incluent la sécurité nationale, les relations internationales, la prévention du crime, et la transparence des marchés publics. Cependant, ces exceptions ne s\\'appliquent pas aux documents tombant dans le domaine public, nécessaires pour exposer des violations des droits de l\\'Homme, ou lorsque l\\'intérêt public général l\\'emporte sur l\\'intérêt protégé.\\n\\nEn cas de rejet de la demande ou de violation des dispositions du décret-loi, le demandeur peut faire appel auprès du chef de l\\'organisme public dans les 15 jours suivant la décision. Si la réponse n\\'est pas satisfaisante, un recours peut être déposé devant le tribunal administratif dans un délai de 30 jours.\\n\\nL\\'agent public qui ne respecte pas les dispositions du présent décret-loi s\\'expose à des poursuites disciplinaires conformément à la législation en vigueur. Chaque organisme public est tenu d\\'adresser aux services compétents du Premier ministère, au cours du premier trimestre de l\\'année suivante, un rapport annuel sur les activités liées à l\\'accès aux documents administratifs le concernant. Les organismes publics doivent se mettre en pleine conformité avec les dispositions du présent décret-loi dans un délai de deux ans à compter de son entrée en vigueur. Durant ce délai, ils doivent fournir aux services compétents du Premier ministère un rapport trimestriel sur l\\'état d\\'avancement des mesures adoptées pour la bonne application du décret-loi. Les dispositions législatives et réglementaires en vigueur, ayant trait à l\\'accès aux documents administratifs, restent applicables jusqu\\'à la conformité totale avec le présent décret-loi. Le décret-loi sera publié au Journal Officiel de la République Tunisienne.'}\n",
            "BRV Result: {'text': \"L'accès aux documents administratifs des organismes publics est régi par plusieurs lois et décrets. La loi n° 88-95 du 2 août 1988 concerne les archives, tandis que le décret-loi n° 2011-14 du 23 mars 2011 régit l'accès aux documents administratifs. Les organismes publics, qui incluent les services de l'administration, doivent fournir des descriptifs de leurs services et programmes offerts au public ainsi que leurs bilans. Selon l'article 10 du décret-loi, le délai de réponse à une demande d'accès peut être prorogé de 15 jours après notification au demandeur. L'article 21 stipule que chaque organisme public est tenu de se conformer aux dispositions du décret-loi.\"}\n",
            "RetrievalQAWithSourcesChain Result: {'question': 'Summarize the entire document in French between 800 and 1000 tokens.', 'answer': \"Le document est une série de décrets-lois de la République Tunisienne. Le premier décret-loi concerne l'accès aux documents administratifs et stipule que les organismes publics doivent se conformer à ses dispositions dans un délai de deux ans. Le deuxième décret-loi modifie la loi n° 82-70 du 6 août 1982, portant statut général des forces de sécurité intérieure. Il accorde aux agents des forces de sûreté intérieure le droit à l'action syndicale et à la constitution de syndicats professionnels indépendants. Cependant, il leur est interdit de recourir à la grève ou d'entraver la marche du travail. Le troisième décret-loi modifie le code du patrimoine archéologique, historique et des arts traditionnels. Il abroge certaines dispositions et définit les biens meubles au sens du code comme les biens culturels mobiliers dont la valeur nationale ou internationale est prouvée sur le plan historique, scientifique, esthétique, technique ou traditionnel. Le décret-loi n° 2011-41 du 26 mai 2011 concerne l'accès aux documents administratifs des organismes publics. Il définit les principes et règles régissant cet accès. Selon ce décret, toute personne physique ou morale a le droit d'accéder aux documents administratifs, sous réserve des exceptions prévues par le décret. Les organismes publics doivent publier régulièrement des informations sur leur structure organisationnelle, leurs décisions importantes, leurs procédures, leurs employés, leurs règlements et manuels, leurs services et programmes, et les résultats des appels d'offres publics. Ils doivent également publier des informations statistiques économiques et sociales, des informations sur les finances publiques et des informations sur les services et programmes sociaux. Les documents administratifs doivent être divulgués sous une forme facilement accessible au public et mis à jour au moins une fois par an. Toute demande de documents administratifs doit être faite par écrit. Le document est un décret-loi de la République Tunisienne concernant l'accès aux documents administratifs. Il stipule que toute demande doit être déposée directement auprès de l'organisme public concerné ou par lettre recommandée ou par voie électronique. Les demandes doivent contenir des informations spécifiques sur le demandeur et les documents demandés. L'organisme public doit répondre à toute demande dans les 15 jours, sauf si la législation en vigueur indique des délais différents. Si la demande pourrait avoir des conséquences sur la protection de la vie ou la liberté d'une personne, l'organisme public doit répondre d'urgence et sans retard et dans un délai ne dépassant pas deux (2) jours ouvrables. Si l'organisme public ne dispose pas du document requis, il doit transférer la demande à l'organisme public compétent ou informer le demandeur que la demande n'est pas de son ressort. L'accès aux documents administratifs est gratuit, mais des frais peuvent être exigés si la fourniture des documents l'exige. Un organisme public peut refuser de communiquer un document administratif protégé par la législation en vigueur. En cas de rejet de la demande ou de violation des dispositions du décret-loi, le demandeur peut faire appel auprès du chef de l'organisme ou devant le tribunal administratif.\\n\", 'sources': 'document_1, document_2, document_3'}\n",
            "MapReduce: Similarity score = 0.9112630821583886\n",
            "Refine: Similarity score = 0.9500257561146066\n",
            "BRV: Similarity score = 0.6793046355374313\n",
            "RetrievalQAWithSourcesChain: Similarity score = 0.9485637808840748\n"
          ]
        }
      ]
    },
    {
      "cell_type": "code",
      "source": [
        "!pip install tiktoken\n"
      ],
      "metadata": {
        "colab": {
          "base_uri": "https://localhost:8080/"
        },
        "id": "muKTXg7DxZ-M",
        "outputId": "94c04f3f-14bf-4d6d-853c-f61567a4d55d"
      },
      "execution_count": 41,
      "outputs": [
        {
          "output_type": "stream",
          "name": "stdout",
          "text": [
            "Requirement already satisfied: tiktoken in /usr/local/lib/python3.10/dist-packages (0.7.0)\n",
            "Requirement already satisfied: regex>=2022.1.18 in /usr/local/lib/python3.10/dist-packages (from tiktoken) (2024.5.15)\n",
            "Requirement already satisfied: requests>=2.26.0 in /usr/local/lib/python3.10/dist-packages (from tiktoken) (2.32.3)\n",
            "Requirement already satisfied: charset-normalizer<4,>=2 in /usr/local/lib/python3.10/dist-packages (from requests>=2.26.0->tiktoken) (3.3.2)\n",
            "Requirement already satisfied: idna<4,>=2.5 in /usr/local/lib/python3.10/dist-packages (from requests>=2.26.0->tiktoken) (3.7)\n",
            "Requirement already satisfied: urllib3<3,>=1.21.1 in /usr/local/lib/python3.10/dist-packages (from requests>=2.26.0->tiktoken) (2.0.7)\n",
            "Requirement already satisfied: certifi>=2017.4.17 in /usr/local/lib/python3.10/dist-packages (from requests>=2.26.0->tiktoken) (2024.7.4)\n"
          ]
        }
      ]
    },
    {
      "cell_type": "code",
      "source": [
        "print(f\"MapReduce Result: {map_reduce_result}\")\n",
        "print(f\"Refine Result: {refine_result}\")\n",
        "print(f\"BRV Result: {brv_result}\")\n",
        "print(f\"RetrievalQAWithSourcesChain Result: {retrieval_qa_result}\")\n",
        "\n",
        "def count_tokens(text):\n",
        "    return llm.get_num_tokens(text)\n",
        "\n",
        "# Extract text from the result objects based on their actual structure\n",
        "map_reduce_text = map_reduce_result.get(\"output_text\", \"\") if isinstance(map_reduce_result, dict) else map_reduce_result\n",
        "refine_text = refine_result.get(\"output_text\", \"\") if isinstance(refine_result, dict) else refine_result\n",
        "retrieval_qa_text = retrieval_qa_result.get(\"answer\", \"\") if isinstance(retrieval_qa_result, dict) else retrieval_qa_result\n",
        "brv_text = brv_result.get(\"text\", \"\") if isinstance(brv_result, dict) else brv_result\n",
        "\n",
        "\n",
        "brv_tokens = count_tokens(brv_text)\n",
        "map_reduce_tokens = count_tokens(map_reduce_text)\n",
        "refine_tokens = count_tokens(refine_text)\n",
        "retrieval_qa_tokens = count_tokens(retrieval_qa_text)\n",
        "\n",
        "print(f\"MapReduce Summary Tokens: {map_reduce_tokens}\")\n",
        "print(f\"Refine Summary Tokens: {refine_tokens}\")\n",
        "print(f\"BRV Summary Tokens: {brv_tokens}\")\n",
        "print(f\"RetrievalQAWithSourcesChain Summary Tokens: {retrieval_qa_tokens}\")\n"
      ],
      "metadata": {
        "colab": {
          "base_uri": "https://localhost:8080/"
        },
        "id": "QXXy04A0xai6",
        "outputId": "aa37aa82-6f43-412d-bd54-9337dab2ea0c"
      },
      "execution_count": 143,
      "outputs": [
        {
          "output_type": "stream",
          "name": "stdout",
          "text": [
            "MapReduce Result: {'input_documents': [Document(page_content=\"N° 39  Journal Officiel de la République Tunisienne —  31 mai 2011  Page 803\\ndécrets-lois   \\n \\n \\n \\n \\n \\nDécret-loi n° 2011-41 du 26 mai 2011, relatif à \\nl’accès aux documents administratifs des organismes publics.  \\nLe Président de la République par intérim, \\nSur proposition du Premier ministre,  Vu la loi organique n° 2004-63 du 27 juillet 2004, \\nportant sur la protection des données à caractère \\npersonnel,  \\nVu la loi n° 88-95 du 2 août 1988, relative aux \\narchives,  \\nVu la loi n° 99-32 du 13 avril 1999, relative au \\nsystème national des statistiques,  \\nVu le décret-loi n° 2011-14 du 23 mars 2011, \\nportant organisation provisoire des pouvoirs publics,  \\nVu le décret n° 93-1880 du 13 septembre 1993, \\nrelatif au système d'information et de communication \\nadministrative,  \\nVu l'avis de l'instance nationale indépendante pour \\nla réforme du secteur de l'information et de la \\ncommunication,  \\nVu la délibération du conseil des ministres.  \\nPrend le décret-loi dont la teneur suit :  Article premier - Le présent décret-loi définit les \\nprincipes et règles régissant l'accès aux documents \\nadministratifs des organismes publics.  \\nArt. 2 - Au sens du présent décret-loi on entend par :  \\n- organisme public : les services de l'administration \\ncentrale et régionale de l'Etat, les collectivités locales \\net les établissements et entreprises publics,  \\n- documents administratifs : les documents \\nproduits ou reçus par les organismes publics dans le cadre de leur mission de service public quels que soient leur date, leur forme et leur support.  \\nArt. 3 - Toute personne physique ou morale a le \\ndroit d'accéder aux documents administratifs tels que définis à l'article 2 du présent décret-loi, aussi bien par divulgation proactive que divulgation sur demande de l'intéressé, sous réserve des exceptions prévues par le présent décret-loi.  \\nArt. 4 - Un organisme public doit, sous réserve des \\ndispositions du présent décret-loi, publier régulièrement :  \\n- toute information sur sa structure \\norganisationnelle, les fonctions et tâches ainsi que ses politiques,  - les décisions importantes et politiques qui \\ntouchent le public,  \\n- la procédure suivie lors du processus décisionnel \\net du processus de contrôle,  \\n- un annuaire des employés et de leurs tâches,  \\n- un annuaire regroupant les noms, coordonnées et \\nautres informations pertinentes concernant les agents \\nde l'information de l'organisme public concerné,  \\n- les règlements et manuels détenus par l'organisme \\npublic concerné ou utilisés par ses employés pour \\nl'exécution de leurs fonctions,  \\n- le descriptif des services et programmes offerts \\nau public et leurs bilans,  \\n- des informations sur les programmes \\ngouvernementaux y compris les indicateurs de performance et les résultats des appels d'offres publics importants,  \\n- un descriptif des documents disponibles par voie \\nélectronique,  \\n- un guide pour aider les usagers de \\nl'administration dans la procédure de demande de documents administratifs, \\nArt. 5 - L'organisme public compétent doit publier \\nrégulièrement :  \\n- Les informations statistiques économiques et \\nsociales y compris les comptes nationaux, les enquêtes statistiques désagrégés, \\n- Toute information sur les finances publiques y \\ncompris les informations macroéconomiques, les informations sur la dette publique et sur les actifs et les passifs de l'Etat, les prévisions et informations sur les dépenses à moyen terme, toute information sur l'évaluation des dépenses et de la gestion des finances publiques et les informations détaillées sur le budget, aux niveaux central, régional et local,  \\n- Les informations disponibles sur les services et \\nprogrammes sociaux.  \\nArt. 6 - Les documents administratifs mentionnés aux \\narticles 4 et 5 du présent décret-loi doivent être divulgués sous une forme facilement accessible au public, et si besoin est, mis à jour au moins une fois par an.  \\nArt. 7 - Toute demande de documents \\nadministratifs doit être faite par écrit.  \\nEn outre, les organismes publics peuvent proposer \\nun formulaire de demande, à condition qu'il soit simple, et ne requiert que les renseignements nécessaires prévus à l'article 8 du présent décret-loi.\"), Document(page_content=\"Journal Officiel de la République Tunisienne  —  31 mai 2011  N° 39  Page 804 Le dépôt de demande se fait soit, directement auprès \\nde l'organisme publique concerné avec délivrance obligatoire d'un récépissé, ou par une, lettre recommandée avec accusé de réception, ou par voie électronique.  \\nArt. 8 - Toute demande comporte obligatoirement, \\ns'il s'agit d'une personne physique, son nom, prénom \\net adresse, et s'il s'agit d'une personne morale, la \\ndénomination et le siège social. Aussi, la demande doit comporter obligatoirement le nom de l'organisme \\npublic concerné et les précisions nécessaires relatives \\naux documents et données demandés.  \\nArt. 9 - Les agents chargés de l'information d'un \\norganisme public doivent si nécessaire prêter assistance au demandeur, dans le cas ou celui-ci rencontrerait des difficultés dans la préparation de la demande.  \\nArt. 10 – L’organisme public concerné doit fournir une \\nréponse à toute demande dans les 15 jours sous réserve des délais indiqués par la législation en vigueur.  \\nToutefois, l'organisme public concerné n'est pas \\ntenu de répondre plus d'une fois au même demandeur, en cas de répétition de ses demandes portant sur un même objet sans motif valable.  \\nEn cas de refus explicite de demande, la décision \\ndoit être motivée.  \\nArt. 11 - Si la demande d'accès aux documents \\nadministratifs pourrait avoir des conséquences sur la \\nprotection de la vie ou la liberté d'une personne, l'organisme public concerné doit faire preuve de diligence afin de répondre d'urgence et sans retard et dans un délai ne dépassant pas deux (2) jours ouvrables.  \\nArt. 12 - Le délai de réponse à la demande prévu à \\nl'article 10 du présent décret-loi peut être prorogé de 15 jours après notification au demandeur lorsque la demande concerne un grand nombre de documents ou nécessite la consultation d'autres parties.  \\nArt. 13 - Le défaut de réponse de l'organisme \\npublic concerné à une demande dans les délais indiqués aux articles 10, 11 et 12 du présent décret-loi vaut refus implicite et ouvre droit aux recours administratifs et juridictionnels.  \\nArt. 14 - Lorsque l'organisme public concerné ne \\ndispose pas du document requis, il doit, dans les cinq \\n(5) jours ouvrables suivant la date de réception de la demande, soit transférer la demande à l'organisme \\npublic compétent, soit informer le demandeur que la \\ndemande n'est pas de son ressort. En cas de transfert de la demande, le demandeur doit en être avisé.  \\nArt. 15 - Toute personne peut, gratuitement, avoir \\naccès aux documents administratifs.  \\nToutefois, des frais peuvent être exigés après \\nnotification préalable du demandeur, si la fourniture des documents l'exige. Ces frais doivent se limiter à couvrir les coûts réels du document demandé.  Le document sera fourni dès justification du \\npaiement des frais par le demandeur.  \\nArt. 16 - Un organisme public peut refuser de \\ncommuniquer un document administratif protégé par la législation en vigueur et notamment la loi relative à la protection des données à caractère personnel et à celle relative à la protection de la propriété littéraire et artistique, ou une décision juridictionnelle ou quand il s'agit de document fourni à l'organisme public concerné à titre confidentiel.  \\nArt. 17 - L'organisme public peut refuser de \\ncommuniquer un document quand cela pourrait être \\npréjudiciable :  \\n- aux relations entre Etats ou organisations \\nInternationales,  \\n- à la formation ou au développement d'une \\npolitique gouvernementale efficace,  \\n- à la sécurité ou la défense nationale,  \\n- à la détection, prévention ou enquête criminelle,  \\n- à l'arrestation et le procès en justice des accusés,  - à l'administration de la justice, au respect des \\nrègles de l'équité, et à la transparence des procédures \\nde passation des marchés publics,  \\n- au processus de délibération, d'échange d'avis et \\npoint de vue, d'examen ou d'essai, ou aux intérêts légitimes commerciaux ou financiers de l'organisme public concerné.  \\nArt. 18 - Les exceptions prévues à l'article 17 du \\nprésent décret-loi ne s'appliquent pas :  \\n- aux documents tombant dans le domaine public \\nsous réserve de la législation en vigueur et notamment la loi relative aux archives,  \\n- aux documents dont la divulgation est nécessaire en \\nvue d'exposer, d'enquêter ou de poursuivre de graves violations des droits de l'Homme ou crimes de guerre,  \\n- lorsque l'intérêt public général l'emporte sur \\nl'intérêt protégé, en raison d'une menace grave pour la \\nsanté, la sécurité ou l'environnement, du risque d'un acte criminel, de corruption ou de mauvaise gestion dans le secteur public.  \\nArt. 19 - En cas de rejet du demande ou de la \\nviolation des dispositions du présent décret-loi le demandeur peut, dans les trente (15) jours qui suivent la décision de refus ou de la violation des dispositions du présent décret-loi, faire appel auprès du chef de cet organisme qui doit lui répondre dans les dix (10) jours de la date de la réception de sa demande en appel.  \\nLe demandeur qui n'est pas satisfait de la décision du \\nchef de l'organisme public peut faire appel devant le tribunal administratif dans un délai de trente (30) jours.  \\nLe tribunal administratif statuera en référé sur le \\nrecours du demandeur prévu à l'article 11 du présent décret-loi.\"), Document(page_content=\"N° 39  Journal Officiel de la République Tunisienne —  31 mai 2011  Page 805Art. 20 - L'agent public qui ne respecte pas les \\ndispositions du présent décret-loi s'expose à des poursuites disciplinaires conformément à la législation en vigueur.  \\nArt. 21 - Chaque organisme public est tenu \\nd'adresser aux services compétents du Premier ministère au cours du premier trimestre de l'année suivante, un rapport annuel sur les activités liées à l'accès aux documents administratifs le concernant.  \\nArt. 22 - Les organismes publics doivent se mettre \\nen pleine conformité avec les dispositions du présent \\ndécret-loi, dans un délai de deux ans à compter de l'entrée en vigueur du présent décret-loi.  \\nIls sont tenus durant ce délai à fournir aux services \\ncompétents du Premier ministère un rapport trimestriel dans les dix (10) jours de l'expiration du trimestre en question, portant sur l'état d'avancement des mesures adoptées pour la bonne application du présent décret-loi.  \\nArt. 23 - Les dispositions législatives et \\nréglementaires en vigueur, ayant trait à l'accès aux documents administratifs, restent applicables jusqu'à la conformité totale avec le présent décret-loi.  \\nArt. 24 - Le présent décret-loi sera publié au \\nJournal Officiel de la République Tunisienne. \\nTunis, le 26 mai 2011.  \\nLe Président de la République par intérim \\nFouad Mebazaâ  \\n \\nDécret-loi n° 2011-42 du 25 mai 2011, \\nmodifiant et complétant la loi n° 82-70 du 6 \\naoût 1982, portant statut général des forces de sécurité intérieure.  \\nLe Président de la République par intérim,  Sur proposition du ministre de l’intérieur, Vu la loi n° 82-70 du 6 août 1982, portant statut \\ngénéral des forces de sécurité intérieure, modifiée et \\ncomplétée par la loi n° 2000-58 du 13 juin 2000, \\nVu le décret-loi n° 2011-14 du 23 mars 2011, \\nportant organisation provisoire des pouvoirs publics, \\nVu la délibération du conseil des ministres. Prend le décret-loi dont la teneur suit : \\nArticle premier - Sont abrogées, les dispositions de \\nl’article\\n11   et  de l’alinéa 3 de l’article 12 de la loi n° \\n82-70 du 6 août 1982, portant statut général des forces de sécurité intérieure et remplacées par les dispositions suivantes : \\nArticle 11 (nouveau) - Les agents des forces de sûreté \\nintérieure ont le droit à l’action syndicale et de constituer, à cet effet, des syndicats professionnels indépendants de tous autres syndicats professionnels et de leurs unions. \\nLes fondateurs du syndicat professionnel doivent, \\ndès sa constitution, déposer un exemplaire de son \\nstatut et la liste de ses dirigeants auprès de l’autorité administrative dont relèvent les agents des forces de sûreté intérieure y adhérant. Cette même autorité \\nadministrative doit être également informée, selon la même modalité, de toute modification relative au statut du syndicat ou à la liste des personnes chargées de son administration ou de sa direction. \\nIl est interdit aux agents des forces de sûreté \\nintérieure, dans l’exercice de l’action syndicale, de recourir à la grève ou d’entraver, de quelque manière que ce soit, la marche du travail. \\nArticle 12 (alinéa 3 nouveau) - Il est interdit aux \\nagents des forces de sécurité intérieure d’adhérer à \\nune organisation à caractère politique ou de s’adonner à toute activité similaire. \\nArt. 2 - Il est ajouté un alinéa 4 à l’article 9 de la \\nloi n° 82-70 du 6 août 1982, portant statut général des forces de sécurité intérieure, dont la teneur suit : \\nArticle 9 (alinéa 4) - Les agents dirigeant les \\nsyndicats professionnels des agents des forces de sûreté intérieure peuvent donner aux médias des déclarations relatives à leur activité syndicale. \\nArt. 3 - Le ministre de l’intérieur et le ministre de \\nla justice sont chargés, chacun en ce qui le concerne, \\nde l’exécution du présent décret-loi qui sera publié au Journal Officiel de la République Tunisienne. \\nTunis, le 25 mai 2011.  \\nLe Président de la République par intérim \\nFouad Mebazaâ  \\n \\nDécret-loi n° 2011-43 du 25 mai 2011, modifiant \\net complétant le code du patrimoine archéologique, historique et des arts traditionnels. \\nLe Président de la République par intérim, \\nSur proposition du ministre de la culture, \\nVu le code du patrimoine archéologique, historique \\net des arts traditionnels, promulgué par la loi n° 94-35 du 24 février 1994,  \\nVu le décret-loi n° 2011-14 du 23 mars 2011, \\nportant organisation provisoire des pouvoirs publics, \\nVu la délibération du conseil des ministres. Prend le décret-loi dont la teneur suit : Article premier - Sont abrogées,  les dispositions \\ndu premier paragraphe de l’article 5, l’article 57, le \\ndeuxième paragraphe de l’article 80, l’article 81, l’article 82 et le premier paragraphe de l’article 83 du code du patrimoine archéologique, historique et des arts traditionnels, et sont remplacées par les dispositions suivantes : \\nArticle 5 (premier paragraphe nouveau) : sont \\nconsidérés biens meubles au sens  du présent code, les biens culturels mobiliers dont la valeur nationale ou internationale quant à l’aspect historique ou scientifique ou esthétique ou  technique ou traditionnelle est prouvée.\")], 'output_text': 'Les thèmes principaux des documents fournis peuvent être résumés comme suit :\\n\\n1. **Accès aux Documents Administratifs** :\\n   - Le décret-loi établit le droit des individus et des entités à accéder aux documents administratifs détenus par les organisations publiques. Il définit des termes clés tels que \"organisme public\" et \"documents administratifs\" pour clarifier la portée du décret-loi. Les organisations publiques sont tenues de publier régulièrement une variété d\\'informations de manière proactive, y compris la structure organisationnelle, les processus de prise de décision, les annuaires des employés et les descriptions des services et programmes. Le décret-loi met l\\'accent sur l\\'importance de la transparence dans l\\'administration publique en exigeant la publication de décisions importantes, de politiques et d\\'informations financières. Des exigences spécifiques pour la publication de statistiques économiques et sociales, d\\'informations sur les finances publiques et de détails budgétaires sont énoncées pour garantir l\\'accès du public à des données critiques. Les documents divulgués doivent être facilement accessibles au public et mis à jour au moins une fois par an. Les procédures de demande d\\'accès aux documents administratifs sont spécifiées, y compris l\\'exigence de demandes écrites et la fourniture d\\'un formulaire de demande simple par les organisations publiques.\\n\\n2. **Soumission et Traitement des Demandes** :\\n   - Les méthodes de soumission des demandes (soumission directe, courrier recommandé, soumission électronique) sont décrites, ainsi que les informations requises pour les demandes (détails personnels pour les individus, détails d\\'entreprise pour les organisations). Une assistance est fournie par les agents publics pour préparer les demandes. Les délais de réponse standard (15 jours) et les conditions de prolongation (15 jours supplémentaires pour les demandes volumineuses ou complexes) sont précisés. Les exigences de réponse urgente (dans les 2 jours pour les demandes ayant un impact sur la vie ou la liberté) sont également mentionnées. Un refus implicite est considéré si aucune réponse n\\'est donnée dans les délais spécifiés. L\\'accès gratuit aux documents administratifs est prévu, avec des frais possibles pour couvrir les coûts réels. Les conditions dans lesquelles l\\'accès peut être refusé (par exemple, protégé par la loi, confidentialité, sécurité nationale) sont énoncées. Des scénarios spécifiques où l\\'accès aux documents peut être refusé (par exemple, relations internationales, sécurité nationale, enquêtes criminelles) sont décrits, ainsi que des exceptions à ces refus (par exemple, documents du domaine public, violations des droits de l\\'homme, intérêt public).\\n\\n3. **Appels et Recours** :\\n   - Les procédures pour faire appel d\\'un refus ou d\\'une violation du décret-loi (appel au chef de l\\'organisme public, puis au tribunal administratif) sont décrites. Les délais pour déposer des appels et l\\'obligation du tribunal de statuer sur les affaires urgentes sont également mentionnés.\\n\\n4. **Administration Publique et Conformité** :\\n   - Les responsabilités et les exigences de conformité pour les agents publics et les organisations publiques concernant l\\'accès aux documents administratifs sont discutées. Les actions disciplinaires en cas de non-conformité, la nécessité de rapports annuels et trimestriels, et le calendrier pour une pleine conformité avec le décret-loi sont détaillés.\\n\\n5. **Droits et Régulations pour les Forces de Sécurité** :\\n   - Les droits des forces de sécurité intérieure, en particulier leur droit de former des syndicats professionnels indépendants et les restrictions sur leurs activités, telles que l\\'interdiction de grèves et d\\'affiliations politiques, sont abordés. Des dispositions pour les interactions médiatiques par les dirigeants syndicaux sont également incluses.\\n\\n6. **Patrimoine Culturel et Préservation** :\\n   - Les modifications apportées au code du patrimoine archéologique, historique et des arts traditionnels sont traitées. La redéfinition de ce qui constitue un bien culturel mobilier et la mise à jour de divers articles liés à la préservation et à la gestion du patrimoine culturel sont incluses.\\n\\nCes thèmes reflètent les changements législatifs et les mises à jour dans l\\'administration publique, les droits et régulations des forces de sécurité, et la préservation du patrimoine culturel en Tunisie.'}\n",
            "Refine Result: {'intermediate_steps': ['Le décret-loi n° 2011-41 du 26 mai 2011, publié dans le Journal Officiel de la République Tunisienne, établit les principes et règles pour l\\'accès aux documents administratifs des organismes publics. Il définit les termes \"organisme public\" et \"documents administratifs\" et stipule que toute personne a le droit d\\'accéder à ces documents, sous réserve de certaines exceptions. Les organismes publics doivent publier régulièrement des informations sur leur structure, leurs décisions, leurs employés, leurs services, et des données économiques et sociales. Les documents doivent être accessibles au public et mis à jour annuellement. Les demandes de documents doivent être faites par écrit, avec des formulaires simples si proposés.', 'Le décret-loi n° 2011-41 du 26 mai 2011, publié dans le Journal Officiel de la République Tunisienne, établit les principes et règles pour l\\'accès aux documents administratifs des organismes publics. Il définit les termes \"organisme public\" et \"documents administratifs\" et stipule que toute personne a le droit d\\'accéder à ces documents, sous réserve de certaines exceptions. Les organismes publics doivent publier régulièrement des informations sur leur structure, leurs décisions, leurs employés, leurs services, et des données économiques et sociales. Les documents doivent être accessibles au public et mis à jour annuellement. Les demandes de documents doivent être faites par écrit, avec des formulaires simples si proposés.\\n\\nLe dépôt de demande peut se faire directement auprès de l\\'organisme public concerné, par lettre recommandée avec accusé de réception, ou par voie électronique. Toute demande doit comporter le nom, prénom et adresse du demandeur s\\'il s\\'agit d\\'une personne physique, ou la dénomination et le siège social s\\'il s\\'agit d\\'une personne morale, ainsi que le nom de l\\'organisme public concerné et les précisions nécessaires relatives aux documents demandés. Les agents chargés de l\\'information doivent prêter assistance au demandeur en cas de difficultés.\\n\\nL’organisme public concerné doit fournir une réponse dans les 15 jours, sauf en cas de délais prolongés pour des demandes complexes. En cas de refus, la décision doit être motivée. Si la demande pourrait affecter la protection de la vie ou la liberté d\\'une personne, une réponse urgente est requise dans un délai de deux jours ouvrables. Le défaut de réponse dans les délais vaut refus implicite et ouvre droit aux recours administratifs et juridictionnels.\\n\\nSi l\\'organisme public ne dispose pas du document requis, il doit transférer la demande à l\\'organisme compétent ou informer le demandeur dans les cinq jours ouvrables. L\\'accès aux documents est gratuit, mais des frais peuvent être exigés pour couvrir les coûts réels de fourniture des documents.\\n\\nUn organisme public peut refuser de communiquer un document protégé par la législation en vigueur, notamment en matière de protection des données personnelles, de propriété littéraire et artistique, ou pour des raisons de confidentialité. D\\'autres motifs de refus incluent la sécurité nationale, les relations internationales, la prévention du crime, et la transparence des marchés publics. Cependant, ces exceptions ne s\\'appliquent pas aux documents tombant dans le domaine public, nécessaires pour exposer des violations des droits de l\\'Homme, ou lorsque l\\'intérêt public général l\\'emporte sur l\\'intérêt protégé.\\n\\nEn cas de rejet de la demande ou de violation des dispositions du décret-loi, le demandeur peut faire appel auprès du chef de l\\'organisme public dans les 15 jours suivant la décision. Si la réponse n\\'est pas satisfaisante, un recours peut être déposé devant le tribunal administratif dans un délai de 30 jours.', 'Le décret-loi n° 2011-41 du 26 mai 2011, publié dans le Journal Officiel de la République Tunisienne, établit les principes et règles pour l\\'accès aux documents administratifs des organismes publics. Il définit les termes \"organisme public\" et \"documents administratifs\" et stipule que toute personne a le droit d\\'accéder à ces documents, sous réserve de certaines exceptions. Les organismes publics doivent publier régulièrement des informations sur leur structure, leurs décisions, leurs employés, leurs services, et des données économiques et sociales. Les documents doivent être accessibles au public et mis à jour annuellement. Les demandes de documents doivent être faites par écrit, avec des formulaires simples si proposés.\\n\\nLe dépôt de demande peut se faire directement auprès de l\\'organisme public concerné, par lettre recommandée avec accusé de réception, ou par voie électronique. Toute demande doit comporter le nom, prénom et adresse du demandeur s\\'il s\\'agit d\\'une personne physique, ou la dénomination et le siège social s\\'il s\\'agit d\\'une personne morale, ainsi que le nom de l\\'organisme public concerné et les précisions nécessaires relatives aux documents demandés. Les agents chargés de l\\'information doivent prêter assistance au demandeur en cas de difficultés.\\n\\nL’organisme public concerné doit fournir une réponse dans les 15 jours, sauf en cas de délais prolongés pour des demandes complexes. En cas de refus, la décision doit être motivée. Si la demande pourrait affecter la protection de la vie ou la liberté d\\'une personne, une réponse urgente est requise dans un délai de deux jours ouvrables. Le défaut de réponse dans les délais vaut refus implicite et ouvre droit aux recours administratifs et juridictionnels.\\n\\nSi l\\'organisme public ne dispose pas du document requis, il doit transférer la demande à l\\'organisme compétent ou informer le demandeur dans les cinq jours ouvrables. L\\'accès aux documents est gratuit, mais des frais peuvent être exigés pour couvrir les coûts réels de fourniture des documents.\\n\\nUn organisme public peut refuser de communiquer un document protégé par la législation en vigueur, notamment en matière de protection des données personnelles, de propriété littéraire et artistique, ou pour des raisons de confidentialité. D\\'autres motifs de refus incluent la sécurité nationale, les relations internationales, la prévention du crime, et la transparence des marchés publics. Cependant, ces exceptions ne s\\'appliquent pas aux documents tombant dans le domaine public, nécessaires pour exposer des violations des droits de l\\'Homme, ou lorsque l\\'intérêt public général l\\'emporte sur l\\'intérêt protégé.\\n\\nEn cas de rejet de la demande ou de violation des dispositions du décret-loi, le demandeur peut faire appel auprès du chef de l\\'organisme public dans les 15 jours suivant la décision. Si la réponse n\\'est pas satisfaisante, un recours peut être déposé devant le tribunal administratif dans un délai de 30 jours.\\n\\nL\\'agent public qui ne respecte pas les dispositions du présent décret-loi s\\'expose à des poursuites disciplinaires conformément à la législation en vigueur. Chaque organisme public est tenu d\\'adresser aux services compétents du Premier ministère, au cours du premier trimestre de l\\'année suivante, un rapport annuel sur les activités liées à l\\'accès aux documents administratifs le concernant. Les organismes publics doivent se mettre en pleine conformité avec les dispositions du présent décret-loi dans un délai de deux ans à compter de son entrée en vigueur. Durant ce délai, ils doivent fournir aux services compétents du Premier ministère un rapport trimestriel sur l\\'état d\\'avancement des mesures adoptées pour la bonne application du décret-loi. Les dispositions législatives et réglementaires en vigueur, ayant trait à l\\'accès aux documents administratifs, restent applicables jusqu\\'à la conformité totale avec le présent décret-loi. Le décret-loi sera publié au Journal Officiel de la République Tunisienne.'], 'output_text': 'Le décret-loi n° 2011-41 du 26 mai 2011, publié dans le Journal Officiel de la République Tunisienne, établit les principes et règles pour l\\'accès aux documents administratifs des organismes publics. Il définit les termes \"organisme public\" et \"documents administratifs\" et stipule que toute personne a le droit d\\'accéder à ces documents, sous réserve de certaines exceptions. Les organismes publics doivent publier régulièrement des informations sur leur structure, leurs décisions, leurs employés, leurs services, et des données économiques et sociales. Les documents doivent être accessibles au public et mis à jour annuellement. Les demandes de documents doivent être faites par écrit, avec des formulaires simples si proposés.\\n\\nLe dépôt de demande peut se faire directement auprès de l\\'organisme public concerné, par lettre recommandée avec accusé de réception, ou par voie électronique. Toute demande doit comporter le nom, prénom et adresse du demandeur s\\'il s\\'agit d\\'une personne physique, ou la dénomination et le siège social s\\'il s\\'agit d\\'une personne morale, ainsi que le nom de l\\'organisme public concerné et les précisions nécessaires relatives aux documents demandés. Les agents chargés de l\\'information doivent prêter assistance au demandeur en cas de difficultés.\\n\\nL’organisme public concerné doit fournir une réponse dans les 15 jours, sauf en cas de délais prolongés pour des demandes complexes. En cas de refus, la décision doit être motivée. Si la demande pourrait affecter la protection de la vie ou la liberté d\\'une personne, une réponse urgente est requise dans un délai de deux jours ouvrables. Le défaut de réponse dans les délais vaut refus implicite et ouvre droit aux recours administratifs et juridictionnels.\\n\\nSi l\\'organisme public ne dispose pas du document requis, il doit transférer la demande à l\\'organisme compétent ou informer le demandeur dans les cinq jours ouvrables. L\\'accès aux documents est gratuit, mais des frais peuvent être exigés pour couvrir les coûts réels de fourniture des documents.\\n\\nUn organisme public peut refuser de communiquer un document protégé par la législation en vigueur, notamment en matière de protection des données personnelles, de propriété littéraire et artistique, ou pour des raisons de confidentialité. D\\'autres motifs de refus incluent la sécurité nationale, les relations internationales, la prévention du crime, et la transparence des marchés publics. Cependant, ces exceptions ne s\\'appliquent pas aux documents tombant dans le domaine public, nécessaires pour exposer des violations des droits de l\\'Homme, ou lorsque l\\'intérêt public général l\\'emporte sur l\\'intérêt protégé.\\n\\nEn cas de rejet de la demande ou de violation des dispositions du décret-loi, le demandeur peut faire appel auprès du chef de l\\'organisme public dans les 15 jours suivant la décision. Si la réponse n\\'est pas satisfaisante, un recours peut être déposé devant le tribunal administratif dans un délai de 30 jours.\\n\\nL\\'agent public qui ne respecte pas les dispositions du présent décret-loi s\\'expose à des poursuites disciplinaires conformément à la législation en vigueur. Chaque organisme public est tenu d\\'adresser aux services compétents du Premier ministère, au cours du premier trimestre de l\\'année suivante, un rapport annuel sur les activités liées à l\\'accès aux documents administratifs le concernant. Les organismes publics doivent se mettre en pleine conformité avec les dispositions du présent décret-loi dans un délai de deux ans à compter de son entrée en vigueur. Durant ce délai, ils doivent fournir aux services compétents du Premier ministère un rapport trimestriel sur l\\'état d\\'avancement des mesures adoptées pour la bonne application du décret-loi. Les dispositions législatives et réglementaires en vigueur, ayant trait à l\\'accès aux documents administratifs, restent applicables jusqu\\'à la conformité totale avec le présent décret-loi. Le décret-loi sera publié au Journal Officiel de la République Tunisienne.'}\n",
            "BRV Result: {'text': \"L'accès aux documents administratifs des organismes publics est régi par plusieurs lois et décrets. La loi n° 88-95 du 2 août 1988 concerne les archives, tandis que le décret-loi n° 2011-14 du 23 mars 2011 régit l'accès aux documents administratifs. Les organismes publics, qui incluent les services de l'administration, doivent fournir des descriptifs de leurs services et programmes offerts au public ainsi que leurs bilans. Selon l'article 10 du décret-loi, le délai de réponse à une demande d'accès peut être prorogé de 15 jours après notification au demandeur. L'article 21 stipule que chaque organisme public est tenu de se conformer aux dispositions du décret-loi.\"}\n",
            "RetrievalQAWithSourcesChain Result: {'question': 'Summarize the entire document in French between 800 and 1000 tokens.', 'answer': \"Le document est une série de décrets-lois de la République Tunisienne. Le premier décret-loi concerne l'accès aux documents administratifs et stipule que les organismes publics doivent se conformer à ses dispositions dans un délai de deux ans. Le deuxième décret-loi modifie la loi n° 82-70 du 6 août 1982, portant statut général des forces de sécurité intérieure. Il accorde aux agents des forces de sûreté intérieure le droit à l'action syndicale et à la constitution de syndicats professionnels indépendants. Cependant, il leur est interdit de recourir à la grève ou d'entraver la marche du travail. Le troisième décret-loi modifie le code du patrimoine archéologique, historique et des arts traditionnels. Il abroge certaines dispositions et définit les biens meubles au sens du code comme les biens culturels mobiliers dont la valeur nationale ou internationale est prouvée sur le plan historique, scientifique, esthétique, technique ou traditionnel. Le décret-loi n° 2011-41 du 26 mai 2011 concerne l'accès aux documents administratifs des organismes publics. Il définit les principes et règles régissant cet accès. Selon ce décret, toute personne physique ou morale a le droit d'accéder aux documents administratifs, sous réserve des exceptions prévues par le décret. Les organismes publics doivent publier régulièrement des informations sur leur structure organisationnelle, leurs décisions importantes, leurs procédures, leurs employés, leurs règlements et manuels, leurs services et programmes, et les résultats des appels d'offres publics. Ils doivent également publier des informations statistiques économiques et sociales, des informations sur les finances publiques et des informations sur les services et programmes sociaux. Les documents administratifs doivent être divulgués sous une forme facilement accessible au public et mis à jour au moins une fois par an. Toute demande de documents administratifs doit être faite par écrit. Le document est un décret-loi de la République Tunisienne concernant l'accès aux documents administratifs. Il stipule que toute demande doit être déposée directement auprès de l'organisme public concerné ou par lettre recommandée ou par voie électronique. Les demandes doivent contenir des informations spécifiques sur le demandeur et les documents demandés. L'organisme public doit répondre à toute demande dans les 15 jours, sauf si la législation en vigueur indique des délais différents. Si la demande pourrait avoir des conséquences sur la protection de la vie ou la liberté d'une personne, l'organisme public doit répondre d'urgence et sans retard et dans un délai ne dépassant pas deux (2) jours ouvrables. Si l'organisme public ne dispose pas du document requis, il doit transférer la demande à l'organisme public compétent ou informer le demandeur que la demande n'est pas de son ressort. L'accès aux documents administratifs est gratuit, mais des frais peuvent être exigés si la fourniture des documents l'exige. Un organisme public peut refuser de communiquer un document administratif protégé par la législation en vigueur. En cas de rejet de la demande ou de violation des dispositions du décret-loi, le demandeur peut faire appel auprès du chef de l'organisme ou devant le tribunal administratif.\\n\", 'sources': 'document_1, document_2, document_3'}\n",
            "MapReduce Summary Tokens: 1085\n",
            "Refine Summary Tokens: 971\n",
            "BRV Summary Tokens: 183\n",
            "RetrievalQAWithSourcesChain Summary Tokens: 791\n"
          ]
        }
      ]
    }
  ]
}